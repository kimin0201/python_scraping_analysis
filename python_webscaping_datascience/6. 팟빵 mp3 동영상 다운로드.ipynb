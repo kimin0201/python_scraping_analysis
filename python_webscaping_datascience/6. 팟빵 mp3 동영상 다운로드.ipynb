{
 "cells": [
  {
   "cell_type": "code",
   "execution_count": 2,
   "metadata": {},
   "outputs": [
    {
     "name": "stdout",
     "output_type": "stream",
     "text": [
      "Name: lxml\n",
      "Version: 4.5.2\n",
      "Summary: Powerful and Pythonic XML processing library combining libxml2/libxslt with the ElementTree API.\n",
      "Home-page: https://lxml.de/\n",
      "Author: lxml dev team\n",
      "Author-email: lxml-dev@lxml.de\n",
      "License: BSD\n",
      "Location: c:\\programdata\\anaconda3\\lib\\site-packages\n",
      "Requires: \n",
      "Required-by: \n"
     ]
    }
   ],
   "source": [
    "!pip show lxml"
   ]
  },
  {
   "cell_type": "code",
   "execution_count": 53,
   "metadata": {},
   "outputs": [
    {
     "ename": "IndentationError",
     "evalue": "unexpected indent (<ipython-input-53-4545fbe12848>, line 28)",
     "output_type": "error",
     "traceback": [
      "\u001b[1;36m  File \u001b[1;32m\"<ipython-input-53-4545fbe12848>\"\u001b[1;36m, line \u001b[1;32m28\u001b[0m\n\u001b[1;33m    if res.ok:\u001b[0m\n\u001b[1;37m    ^\u001b[0m\n\u001b[1;31mIndentationError\u001b[0m\u001b[1;31m:\u001b[0m unexpected indent\n"
     ]
    }
   ],
   "source": [
    "import requests\n",
    "from bs4 import BeautifulSoup\n",
    "from urllib.parse import urljoin\n",
    "import json\n",
    "\n",
    "\n",
    "def pp_f(pod_id,title):\n",
    "        url = f'http://www.podbbang.com/_m_api/podcasts/{pod_id}/episodes'\n",
    "\n",
    "        req_param = {\n",
    "        \"offset\":0,\n",
    "        \"sort\":\"pubdate:desc\",\n",
    "        \"episode_id\":0,\n",
    "        \"limit\":8,\n",
    "        \"with\":\"summary\",\n",
    "        \"cache\":0\n",
    "\n",
    "        }\n",
    "\n",
    "\n",
    "        req_header = {\n",
    "                          'referer' : f'http://www.podbbang.com/ch/{pod_id}',\n",
    "                          'user-agent':'Mozilla/5.0 (Windows NT 10.0; Win64; x64) AppleWebKit/537.36 (KHTML, like Gecko) Chrome/86.0.4240.111 Safari/537.36'\n",
    "                    }\n",
    "        \n",
    "        res=requests.get(url,params = req_param)\n",
    "        \n",
    "                if res.ok:\n",
    "                    soup = BeautifulSoup(res.text,'lxml')\n",
    "                    p_tag = soup.select('p')[0].text\n",
    "                    #str 타입의 텍스트를 dict 타입으로 변경하기\n",
    "                    json_data = json.loads(p_tag)\n",
    "                    #print(type(json_data), json_data)\n",
    "                    episode_length = len(json_data['data'])\n",
    "                    #print(len(json_data['data'],type(json_data['data']))\n",
    "                    ##print(len(json_data['data']),type(json_data['data']))\n",
    "\n",
    "                    for episode in json_data['data']:\n",
    "                        print('------')\n",
    "                        epi_title = episode['title']\n",
    "                        mp3_url = episode['enclosure']['url']\n",
    "                        print(title, mp3_url)\n",
    "                        if mp3_url:\n",
    "\n",
    "                            dir_name = os.path.join('mp3',title)          \n",
    "\n",
    "                            file_name = os.path.basename(mp3_url)\n",
    "                            print(file_name)\n",
    "                            #디렉토리 \n",
    "                            if not os.path.isdir(dir_name):\n",
    "                                os.makedirs(dir_name)\n",
    "                            #print(episode)\n",
    "\n",
    "                #해당 url에서 파일명만 추출\n",
    "                            #file_name = os.path.basename(mp3_url)\n",
    "                            episode_title = claean_text(episode_title)\n",
    "                            file_name=f'{episode_title}.mp3'\n",
    "                    #생성된 디렉토리명과 파일명을 합쳐주기\n",
    "                            file_name = dir_name+'/'+file_name\n",
    "\n",
    "                       #  요청보냄\n",
    "                            res=requests.get(mp3_url, headers=req_header)\n",
    "                            print(res.status_code)\n",
    "\n",
    "                            if res.ok:\n",
    "                                #response 객체에서 binary 데이터 추출\n",
    "                                mp3_bin = res.content\n",
    "                                #binary데이터를 local파일로 저장\n",
    "                                with open(file_name,'wb')as file:\n",
    "                                    file.write(mp3_bin) = episode['title']\n",
    "                            mp3_url = episode['enclosure']['url']\n",
    "                            print(epi_title, mp3_url)\n",
    "        def pp_f(16255,나)\n",
    "        \n",
    "        \n",
    "        \n",
    "        "
   ]
  },
  {
   "cell_type": "code",
   "execution_count": 47,
   "metadata": {},
   "outputs": [],
   "source": [
    "#문자열에 있는 특수문자를 \n",
    "def clean_text(text):\n",
    "    \n",
    "    import re\n",
    "    text = text.replace(\"\\n\", \"\")\n",
    "\n",
    "    cleaned_text = re.sub('[\\{\\}\\[\\]\\/?.,;:|\\)*~`!^\\-_+<>@\\#$%&\\\\\\=\\(\\'\\\"]','', text)\n",
    "    cleaned_text = cleaned_text.replace(' ','')\n",
    "    return cleaned_text\n"
   ]
  },
  {
   "cell_type": "code",
   "execution_count": null,
   "metadata": {},
   "outputs": [],
   "source": []
  }
 ],
 "metadata": {
  "kernelspec": {
   "display_name": "Python 3",
   "language": "python",
   "name": "python3"
  },
  "language_info": {
   "codemirror_mode": {
    "name": "ipython",
    "version": 3
   },
   "file_extension": ".py",
   "mimetype": "text/x-python",
   "name": "python",
   "nbconvert_exporter": "python",
   "pygments_lexer": "ipython3",
   "version": "3.8.3"
  }
 },
 "nbformat": 4,
 "nbformat_minor": 4
}
