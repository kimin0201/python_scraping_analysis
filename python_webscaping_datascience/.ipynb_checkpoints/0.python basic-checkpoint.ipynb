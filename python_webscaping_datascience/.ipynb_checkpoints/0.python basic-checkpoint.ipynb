{
 "cells": [
  {
   "cell_type": "code",
   "execution_count": 5,
   "metadata": {},
   "outputs": [
    {
     "name": "stdout",
     "output_type": "stream",
     "text": [
      "<class 'dict'>\n",
      "홍길동\n"
     ]
    }
   ],
   "source": [
    "#dict\n",
    "my_dict = {\n",
    "    \"name\":\"홍길동\",\n",
    "    \"age\":40\n",
    "    \n",
    "}\n",
    "print(type(my_dict))\n",
    "name = my_dict['name']\n",
    "print(name)"
   ]
  },
  {
   "cell_type": "code",
   "execution_count": null,
   "metadata": {},
   "outputs": [],
   "source": []
  },
  {
   "cell_type": "code",
   "execution_count": 6,
   "metadata": {},
   "outputs": [
    {
     "ename": "NameError",
     "evalue": "name 'data_df' is not defined",
     "output_type": "error",
     "traceback": [
      "\u001b[1;31m---------------------------------------------------------------------------\u001b[0m",
      "\u001b[1;31mNameError\u001b[0m                                 Traceback (most recent call last)",
      "\u001b[1;32m<ipython-input-6-81d4f55902c1>\u001b[0m in \u001b[0;36m<module>\u001b[1;34m\u001b[0m\n\u001b[0;32m      1\u001b[0m \u001b[1;31m#컬럼 추가##########################\u001b[0m\u001b[1;33m\u001b[0m\u001b[1;33m\u001b[0m\u001b[1;33m\u001b[0m\u001b[0m\n\u001b[1;32m----> 2\u001b[1;33m \u001b[0mdata_df\u001b[0m\u001b[1;33m[\u001b[0m\u001b[1;34m'phone'\u001b[0m\u001b[1;33m]\u001b[0m\u001b[1;33m=\u001b[0m\u001b[1;33m[\u001b[0m\u001b[1;34m'010-11'\u001b[0m\u001b[1;33m,\u001b[0m\u001b[1;34m'011-22'\u001b[0m\u001b[1;33m,\u001b[0m\u001b[1;34m'223-36'\u001b[0m\u001b[1;33m]\u001b[0m\u001b[1;33m\u001b[0m\u001b[1;33m\u001b[0m\u001b[0m\n\u001b[0m\u001b[0;32m      3\u001b[0m \u001b[0mdata_df\u001b[0m\u001b[1;33m\u001b[0m\u001b[1;33m\u001b[0m\u001b[0m\n",
      "\u001b[1;31mNameError\u001b[0m: name 'data_df' is not defined"
     ]
    }
   ],
   "source": [
    "#컬럼 추가##########################\n",
    "data_df['phone']=['010-11','011-22','223-36']\n",
    "data_df"
   ]
  },
  {
   "cell_type": "code",
   "execution_count": null,
   "metadata": {},
   "outputs": [],
   "source": [
    "def my_url(kind):\n",
    "    url = f\"{kind}\"\n",
    "    print(url)"
   ]
  },
  {
   "cell_type": "code",
   "execution_count": 3,
   "metadata": {},
   "outputs": [
    {
     "name": "stdout",
     "output_type": "stream",
     "text": [
      "Yesterday all my troubles seemed so far away.\n",
      "Now it looks as though they're here to stay.\n",
      "Oh, I believe in yesterday.\n",
      "\n",
      "Suddenly I'm not half the man I used to be.\n",
      "There's a shadow hanging over me.\n",
      "Oh, yesterday came suddenly.\n",
      "\n",
      "Why she had to go, I don't know, she wouldn't say.\n",
      "I said something wrong, now I long for yesterday.\n",
      "\n",
      "Yesterday love was such an easy game to play.\n",
      "Now I need a place to hide away.\n",
      "Oh, I believe in yesterday.\n",
      "\n",
      "Why she had to go, I don't know, she wouldn't say.\n",
      "I said something wrong, now I long for yesterday.\n",
      "\n",
      "Yesterday love was such an easy game to play.\n",
      "Now I need a place to hide away.\n",
      "Oh, I believe in yesterday.\n",
      "\n",
      "Mm mm mm mm mm mm mm\n",
      "\n",
      "<class 'str'>\n",
      "17\n",
      ">>>>>>번역시작 ! !\n",
      "Yesterday all my troubles seemed so far away.\n",
      "200\n",
      "어제 나의 모든 고민들은 너무나 멀리 떨어져 있는 것 같았다.\n",
      "Now it looks as though they're here to stay.\n",
      "200\n",
      "이제 그들은 여기 머물기 위해 온 것처럼 보인다.\n",
      "Oh, I believe in yesterday.\n",
      "200\n",
      "오, 나는 어제를 다시 그리게 돼.\n",
      "Suddenly I'm not half the man I used to be.\n",
      "200\n",
      "갑자기 나는 예전과 같은 사람이 아니다.\n",
      "There's a shadow hanging over me.\n",
      "200\n",
      "내 위에 그림자가 드리워져 있다.\n",
      "Oh, yesterday came suddenly.\n",
      "200\n",
      "아, 어제 갑자기 왔구나.\n",
      "Why she had to go, I don't know, she wouldn't say.\n",
      "200\n",
      "왜 그녀가 가야만 했는지 모르겠다, 그녀는 말하지 않을 것이다.\n",
      "I said something wrong, now I long for yesterday.\n",
      "200\n",
      "내가 말을 잘못해서 어제가 그립다.\n",
      "Yesterday love was such an easy game to play.\n",
      "200\n",
      "어제는 사랑이 정말 쉬운 게임이었다.\n",
      "Now I need a place to hide away.\n",
      "200\n",
      "이제 나는 숨을 곳이 필요해.\n",
      "Oh, I believe in yesterday.\n",
      "200\n",
      "오, 나는 어제를 다시 그리게 돼.\n",
      "Why she had to go, I don't know, she wouldn't say.\n",
      "200\n",
      "왜 그녀가 가야만 했는지 모르겠다, 그녀는 말하지 않을 것이다.\n",
      "I said something wrong, now I long for yesterday.\n",
      "200\n",
      "내가 말을 잘못해서 어제가 그립다.\n",
      "Yesterday love was such an easy game to play.\n",
      "200\n",
      "어제는 사랑이 정말 쉬운 게임이었다.\n",
      "Now I need a place to hide away.\n",
      "200\n",
      "이제 나는 숨을 곳이 필요해.\n",
      "Oh, I believe in yesterday.\n",
      "200\n",
      "오, 나는 어제를 다시 그리게 돼.\n",
      "Mm mm mm mm mm mm mm\n",
      "200\n",
      "mm mm mm mm mm mm mm mm\n",
      ">>>>>>번역 종료 ! 1 !\n"
     ]
    }
   ],
   "source": [
    "import requests\n",
    "\n",
    "\n",
    "def translyric_savefile(trans_list):\n",
    "    with open('data/yesterday_trans.txt','w',encoding='utf8') as file :\n",
    "        file.writelines(trans_list)\n",
    "\n",
    "\n",
    "\n",
    "#esterday.txt 가사 파일의 내용을 읽어서 list에 저장\n",
    "def gettext_savelist():\n",
    "    lyric_list = []\n",
    "    with open('data/yesterday.txt','r',encoding='utf8') as file:\n",
    "        contents = file.read()\n",
    "        print(contents) #파일을 읽었다~!\n",
    "        print()\n",
    "        print(type(contents))\n",
    "        lyric_list=contents.split('\\n')\n",
    "        \n",
    "    return lyric_list\n",
    "\n",
    "\n",
    "\n",
    "\n",
    "def main():\n",
    "    client_id = \"URrvC9aqM1RfBe_kqiGg\"\n",
    "    client_secret = \"HTUiqzKBPp\"\n",
    "    \n",
    "    url = \"https://openapi.naver.com/v1/papago/n2mt\"\n",
    "\n",
    "        \n",
    "        \n",
    "    req_header = {\n",
    "        \"X-Naver-Client-Id\":client_id, \n",
    "        \"X-Naver-Client-Secret\" : client_secret \n",
    "    }\n",
    "    \n",
    "    lyric_list = gettext_savelist()\n",
    "    lyric_list = [lyric for lyric in lyric_list if len(lyric) != 0 ] #가사없는거 떨구려고 \n",
    "    print(len(lyric_list))\n",
    "    \n",
    "    trans_list =[]\n",
    "    \n",
    "    print('>>>>>>번역시작 ! !')\n",
    "    \n",
    "    for req_lyric in lyric_list:\n",
    "        print(req_lyric)\n",
    "        req_data = {\n",
    "        \"source\":\"en\",\n",
    "        \"target\":\"ko\",\n",
    "        \"text\":req_lyric\n",
    "        }\n",
    "        #파피고 서비스 요청, post()함수 호출\n",
    "        \n",
    "        res = requests.post(url,data=req_data, headers=req_header)\n",
    "        print(res.status_code)\n",
    "        # print(req_lyric)\n",
    "        # 쿼리해결. 데이터를 보내고싶ㄸ ㅣ 보내고 싶은 데이터. \n",
    "        \n",
    "        #jsone함수#모지?\n",
    "        try:\n",
    "            trans_lyric = res.json()['message'][ 'result'] ['translatedText']\n",
    "        except Exception as exp:\n",
    "            print(res.status_code)\n",
    "        else:\n",
    "            print(trans_lyric)\n",
    "            \n",
    "        trans_list.append(req_lyric+ '\\n')\n",
    "        trans_list.append(trans_lyric + '\\n')\n",
    "        \n",
    "    #print(trans_list)\n",
    "    translyric_savefile(trans_list) #이걸 인자를 던진다구 표현하신다!! 인자를 던져!\n",
    "    print('>>>>>>번역 종료 ! 1 !')\n",
    "    \n",
    "    \n",
    "    \n",
    "    \n",
    "\n",
    "main()"
   ]
  },
  {
   "cell_type": "code",
   "execution_count": null,
   "metadata": {},
   "outputs": [],
   "source": [
    "##파파고 서비스 사용😏😉\n",
    "*yesterday.txt 가사 파일의 내용을 읽어서 list에 저장\n",
    "*list에 있는 내용으 ㄹ번역 서비스 요청\n",
    "*서비스 응답 결과를 다시 파일에 저장\n",
    "\n",
    "\n"
   ]
  },
  {
   "cell_type": "code",
   "execution_count": null,
   "metadata": {},
   "outputs": [],
   "source": [
    "import requests\n",
    "\n",
    "\n",
    "def translyric_savefile(trans_list,lyric_in):\n",
    "    with open(f'data/{lyric_in}_trans.txt','w',encoding='utf8') as file :\n",
    "        file.writelines(trans_list)\n",
    "\n",
    "\n",
    "\n",
    "#esterday.txt 가사 파일의 내용을 읽어서 list에 저장\n",
    "def gettext_savelist(lyric_in):\n",
    "    \n",
    "    lyric_list = []\n",
    "    with open(f'data/{lyric_in}.txt','r',encoding='utf8') as file:\n",
    "        contents = file.read()\n",
    "        print(contents) #파일을 읽었다~!\n",
    "        print()\n",
    "        print(type(contents))\n",
    "        lyric_list=contents.split('\\n')\n",
    "        \n",
    "    return lyric_list\n",
    "\n",
    "\n",
    "\n",
    "\n",
    "def main(lyric_in):\n",
    "    client_id = \"URrvC9aqM1RfBe_kqiGg\"\n",
    "    client_secret = \"HTUiqzKBPp\"\n",
    "    \n",
    "    url = \"https://openapi.naver.com/v1/papago/n2mt\"\n",
    "\n",
    "        \n",
    "        \n",
    "    req_header = {\n",
    "        \"X-Naver-Client-Id\":client_id, \n",
    "        \"X-Naver-Client-Secret\" : client_secret \n",
    "    }\n",
    "    \n",
    "    lyric_list = gettext_savelist(lyric_in)\n",
    "    lyric_list = [lyric for lyric in lyric_list if len(lyric) != 0 ] #가사없는거 떨구려고 \n",
    "    print(len(lyric_list))\n",
    "    \n",
    "    trans_list =[]\n",
    "    \n",
    "    print('>>>>>>번역시작 ! !')\n",
    "    \n",
    "    for req_lyric in lyric_list:\n",
    "        print(req_lyric)\n",
    "        req_data = {\n",
    "        \"source\":\"ko\",\n",
    "        \"target\":\"en\",\n",
    "        \"text\":req_lyric\n",
    "        }\n",
    "        #파피고 서비스 요청, post()함수 호출\n",
    "        \n",
    "        res = requests.post(url,data=req_data, headers=req_header)\n",
    "        print(res.status_code)\n",
    "        # print(req_lyric)\n",
    "        # 쿼리해결. 데이터를 보내고싶ㄸ ㅣ 보내고 싶은 데이터. \n",
    "        \n",
    "        #jsone함수#모지?\n",
    "        try:\n",
    "            trans_lyric = res.json()['message'][ 'result'] ['translatedText']\n",
    "        except Exception as exp:\n",
    "            print(res.status_code)\n",
    "        else:\n",
    "            print(trans_lyric)\n",
    "            \n",
    "        trans_list.append(req_lyric+ '\\n')\n",
    "        trans_list.append(trans_lyric + '\\n')\n",
    "        \n",
    "    #print(trans_list)\n",
    "    translyric_savefile(trans_list,lyric_in) #이걸 인자를 던진다구 표현하신다!! 인자를 던져!\n",
    "    print('>>>>>>번역 종료 ! 1 !')\n",
    "    \n",
    "    \n",
    "    \n",
    "    \n",
    "lyric_in=input()\n",
    "main(lyric_in)\n"
   ]
  },
  {
   "cell_type": "code",
   "execution_count": null,
   "metadata": {},
   "outputs": [],
   "source": [
    "my_url(\"blog\")"
   ]
  },
  {
   "cell_type": "code",
   "execution_count": null,
   "metadata": {},
   "outputs": [],
   "source": [
    "#split()함수사용 *list 구만 짤라서 리스트로 해주는 게 split\n",
    "my_str = 'a/b/c'\n",
    "result = my_str.split('/')\n",
    "print(type(result),result)"
   ]
  },
  {
   "cell_type": "code",
   "execution_count": null,
   "metadata": {},
   "outputs": [],
   "source": [
    "# \\m는 엔터이다!  ''이걸 기준으로 짤라라???\n",
    "\n",
    "lyric = '''Yesterday all my troubles seemed so far away.\n",
    "Now it looks as though they're here to stay.\n",
    "Oh, I believe in yesterday.'''\n",
    "\n",
    "result = lyric.split('\\n') #무엇을 기준으로 자를거냐!\n",
    "result"
   ]
  },
  {
   "cell_type": "code",
   "execution_count": null,
   "metadata": {},
   "outputs": [],
   "source": [
    "# list comprehension (포괄적인 리스트)\n",
    "# 적용전 before #코드가깔끔해지는거 #알수있어여 #시작\n",
    "numbers = [1,2,3,4]\n",
    "result = []\n",
    "for value in numbers:\n",
    "    result.append(value**2)\n",
    "    \n",
    "result"
   ]
  },
  {
   "cell_type": "code",
   "execution_count": null,
   "metadata": {},
   "outputs": [],
   "source": [
    "#적용후 after #와 #간단하다! #중급개발자들은 다 요러케\n",
    "result2=[ val **2 for val in numbers]\n",
    "result2"
   ]
  },
  {
   "cell_type": "code",
   "execution_count": null,
   "metadata": {},
   "outputs": [],
   "source": [
    "#적용전\n",
    "even_list= []\n",
    "for val in range(20):\n",
    "    if val%2==0:\n",
    "        print(val)\n",
    "        even_list.append(val)\n",
    "        \n",
    "even_list"
   ]
  },
  {
   "cell_type": "code",
   "execution_count": null,
   "metadata": {},
   "outputs": [],
   "source": [
    "even_list = [ val for val in range(20) if val%2==0] #조건식은 뒤에다가!!! #잼따\n",
    "\n",
    "even_list"
   ]
  },
  {
   "cell_type": "code",
   "execution_count": null,
   "metadata": {},
   "outputs": [],
   "source": [
    "#dict, list\n",
    "song_list = []\n",
    "for val in range(5):\n",
    "    song_dict = {}\n",
    "    song_dict['title'] ='dynmite'\n",
    "    song_dict['seq'] =val\n",
    "    print(song_dict)\n",
    "    \n",
    "    song_list.append(song_dict)\n",
    "    \n",
    "song_list"
   ]
  },
  {
   "cell_type": "markdown",
   "metadata": {},
   "source": [
    "## 공백제거"
   ]
  },
  {
   "cell_type": "code",
   "execution_count": 7,
   "metadata": {},
   "outputs": [
    {
     "name": "stdout",
     "output_type": "stream",
     "text": [
      "a\n",
      "b\r",
      "c\tda\n",
      "b\r",
      "c\tda\n",
      "b\r",
      "c\td\n",
      "<class 're.Pattern'> re.compile('[\\\\n\\\\r\\\\t]')\n",
      "abcdabcdabcd\n"
     ]
    }
   ],
   "source": [
    "import re\n",
    "\n",
    "my_str='a\\nb\\rc\\td' * 3\n",
    "print(my_str)\n",
    "\n",
    "#정규표현식 패턴(pattern) 객체 생성\n",
    "regexp = re.compile(r'[\\n\\r\\t]')\n",
    "\n",
    "\n",
    "print(type(regexp), regexp)\n",
    "#pattern 과 매칭되는 문자열을 찾아서 다른 문자열로 치환 'sub'\n",
    "result = regexp.sub(\" \", my_str)\n",
    "#str의 replace 함수로 중간 공백을 제거함\n",
    "result = result.replace(\" \", \"\") #공백없이 만들기\n",
    "print(result)"
   ]
  },
  {
   "cell_type": "code",
   "execution_count": null,
   "metadata": {},
   "outputs": [],
   "source": [
    "#tuple 형태로 여러개의 값을 반환하는 함수 선언\n",
    "def swap(a,b):\n",
    "    return (b,a)\n"
   ]
  },
  {
   "cell_type": "code",
   "execution_count": 9,
   "metadata": {},
   "outputs": [
    {
     "ename": "NameError",
     "evalue": "name 'swap' is not defined",
     "output_type": "error",
     "traceback": [
      "\u001b[1;31m---------------------------------------------------------------------------\u001b[0m",
      "\u001b[1;31mNameError\u001b[0m                                 Traceback (most recent call last)",
      "\u001b[1;32m<ipython-input-9-a621585fc0ac>\u001b[0m in \u001b[0;36m<module>\u001b[1;34m\u001b[0m\n\u001b[1;32m----> 1\u001b[1;33m \u001b[0mn1\u001b[0m\u001b[1;33m,\u001b[0m\u001b[0mn2\u001b[0m\u001b[1;33m=\u001b[0m\u001b[0mswap\u001b[0m\u001b[1;33m(\u001b[0m\u001b[1;36m10\u001b[0m\u001b[1;33m,\u001b[0m\u001b[1;36m20\u001b[0m\u001b[1;33m)\u001b[0m\u001b[1;33m\u001b[0m\u001b[1;33m\u001b[0m\u001b[0m\n\u001b[0m\u001b[0;32m      2\u001b[0m \u001b[0mprint\u001b[0m\u001b[1;33m(\u001b[0m\u001b[0mn1\u001b[0m\u001b[1;33m)\u001b[0m\u001b[1;33m\u001b[0m\u001b[1;33m\u001b[0m\u001b[0m\n\u001b[0;32m      3\u001b[0m \u001b[0mprint\u001b[0m\u001b[1;33m(\u001b[0m\u001b[0mn2\u001b[0m\u001b[1;33m)\u001b[0m\u001b[1;33m\u001b[0m\u001b[1;33m\u001b[0m\u001b[0m\n",
      "\u001b[1;31mNameError\u001b[0m: name 'swap' is not defined"
     ]
    }
   ],
   "source": [
    "n1,n2=swap(10,20)\n",
    "print(n1)\n",
    "print(n2)"
   ]
  },
  {
   "cell_type": "code",
   "execution_count": 3,
   "metadata": {},
   "outputs": [
    {
     "name": "stdout",
     "output_type": "stream",
     "text": [
      "<class 'int'>\n",
      "<class 'tuple'>\n"
     ]
    }
   ],
   "source": [
    "my_tuple = (1)\n",
    "print(type(my_tuple))\n",
    "\n",
    "my_tuple2 = (1,)\n",
    "print(type(my_tuple2))"
   ]
  },
  {
   "cell_type": "code",
   "execution_count": 6,
   "metadata": {},
   "outputs": [
    {
     "name": "stdout",
     "output_type": "stream",
     "text": [
      "<zip object at 0x00000229B33F5E00>\n",
      "('정당', '민주당')\n",
      "('선거구', '서울은평구')\n"
     ]
    }
   ],
   "source": [
    "dt_list = ['정당','선거구']\n",
    "dd_list = ['민주당','서울은평구']\n",
    "\n",
    "print(zip(dt_list,dd_list))\n",
    "\n",
    "for data in zip(dt_list,dd_list):\n",
    "    print(data)\n",
    "    \n",
    "data_dict= dict(zip(dt_list,dd_list))\n",
    "print(data_dict)\n",
    "\n"
   ]
  },
  {
   "cell_type": "code",
   "execution_count": null,
   "metadata": {},
   "outputs": [],
   "source": []
  }
 ],
 "metadata": {
  "kernelspec": {
   "display_name": "Python 3",
   "language": "python",
   "name": "python3"
  },
  "language_info": {
   "codemirror_mode": {
    "name": "ipython",
    "version": 3
   },
   "file_extension": ".py",
   "mimetype": "text/x-python",
   "name": "python",
   "nbconvert_exporter": "python",
   "pygments_lexer": "ipython3",
   "version": "3.8.3"
  }
 },
 "nbformat": 4,
 "nbformat_minor": 4
}
