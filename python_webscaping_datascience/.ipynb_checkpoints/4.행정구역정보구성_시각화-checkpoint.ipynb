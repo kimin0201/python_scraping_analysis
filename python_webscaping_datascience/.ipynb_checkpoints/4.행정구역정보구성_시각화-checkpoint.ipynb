{
 "cells": [
  {
   "cell_type": "code",
   "execution_count": 4,
   "metadata": {},
   "outputs": [],
   "source": [
    "import pandas as pd"
   ]
  },
  {
   "cell_type": "markdown",
   "metadata": {},
   "source": [
    "## 행정구역 정보 (csv)읽고 분석하기 \n",
    "*read_csv() 함수로 csv file 읽rl\n",
    "\n",
    "*head(), tail(),info() 데이터 확인\n",
    "\n",
    "*컬럼명을 변경\n",
    "\n",
    "*특정행과 열을 선택하기 (loc[], iloc[] 사용하기)\n"
   ]
  },
  {
   "cell_type": "code",
   "execution_count": 5,
   "metadata": {},
   "outputs": [
    {
     "name": "stdout",
     "output_type": "stream",
     "text": [
      "<class 'pandas.core.frame.DataFrame'>\n",
      "(229, 8)\n"
     ]
    }
   ],
   "source": [
    "data=pd.read_csv('data/data_draw_korea.csv')\n",
    "print(type(data))\n",
    "print(data.shape)"
   ]
  },
  {
   "cell_type": "code",
   "execution_count": 6,
   "metadata": {},
   "outputs": [
    {
     "data": {
      "text/html": [
       "<div>\n",
       "<style scoped>\n",
       "    .dataframe tbody tr th:only-of-type {\n",
       "        vertical-align: middle;\n",
       "    }\n",
       "\n",
       "    .dataframe tbody tr th {\n",
       "        vertical-align: top;\n",
       "    }\n",
       "\n",
       "    .dataframe thead th {\n",
       "        text-align: right;\n",
       "    }\n",
       "</style>\n",
       "<table border=\"1\" class=\"dataframe\">\n",
       "  <thead>\n",
       "    <tr style=\"text-align: right;\">\n",
       "      <th></th>\n",
       "      <th>Unnamed: 0</th>\n",
       "      <th>인구수</th>\n",
       "      <th>shortName</th>\n",
       "      <th>x</th>\n",
       "      <th>y</th>\n",
       "      <th>면적</th>\n",
       "      <th>광역시도</th>\n",
       "      <th>행정구역</th>\n",
       "    </tr>\n",
       "  </thead>\n",
       "  <tbody>\n",
       "    <tr>\n",
       "      <th>0</th>\n",
       "      <td>0</td>\n",
       "      <td>202520</td>\n",
       "      <td>강릉</td>\n",
       "      <td>11</td>\n",
       "      <td>4</td>\n",
       "      <td>1040.07</td>\n",
       "      <td>강원도</td>\n",
       "      <td>강릉시</td>\n",
       "    </tr>\n",
       "    <tr>\n",
       "      <th>1</th>\n",
       "      <td>1</td>\n",
       "      <td>25589</td>\n",
       "      <td>고성(강원)</td>\n",
       "      <td>9</td>\n",
       "      <td>0</td>\n",
       "      <td>664.19</td>\n",
       "      <td>강원도</td>\n",
       "      <td>고성군</td>\n",
       "    </tr>\n",
       "    <tr>\n",
       "      <th>2</th>\n",
       "      <td>2</td>\n",
       "      <td>86747</td>\n",
       "      <td>동해</td>\n",
       "      <td>11</td>\n",
       "      <td>5</td>\n",
       "      <td>180.01</td>\n",
       "      <td>강원도</td>\n",
       "      <td>동해시</td>\n",
       "    </tr>\n",
       "    <tr>\n",
       "      <th>3</th>\n",
       "      <td>3</td>\n",
       "      <td>63986</td>\n",
       "      <td>삼척</td>\n",
       "      <td>11</td>\n",
       "      <td>8</td>\n",
       "      <td>1185.80</td>\n",
       "      <td>강원도</td>\n",
       "      <td>삼척시</td>\n",
       "    </tr>\n",
       "    <tr>\n",
       "      <th>4</th>\n",
       "      <td>4</td>\n",
       "      <td>76733</td>\n",
       "      <td>속초</td>\n",
       "      <td>9</td>\n",
       "      <td>1</td>\n",
       "      <td>105.25</td>\n",
       "      <td>강원도</td>\n",
       "      <td>속초시</td>\n",
       "    </tr>\n",
       "  </tbody>\n",
       "</table>\n",
       "</div>"
      ],
      "text/plain": [
       "   Unnamed: 0     인구수 shortName   x  y       면적 광역시도 행정구역\n",
       "0           0  202520        강릉  11  4  1040.07  강원도  강릉시\n",
       "1           1   25589    고성(강원)   9  0   664.19  강원도  고성군\n",
       "2           2   86747        동해  11  5   180.01  강원도  동해시\n",
       "3           3   63986        삼척  11  8  1185.80  강원도  삼척시\n",
       "4           4   76733        속초   9  1   105.25  강원도  속초시"
      ]
     },
     "execution_count": 6,
     "metadata": {},
     "output_type": "execute_result"
    }
   ],
   "source": [
    "data.head()"
   ]
  },
  {
   "cell_type": "code",
   "execution_count": 7,
   "metadata": {},
   "outputs": [
    {
     "data": {
      "text/html": [
       "<div>\n",
       "<style scoped>\n",
       "    .dataframe tbody tr th:only-of-type {\n",
       "        vertical-align: middle;\n",
       "    }\n",
       "\n",
       "    .dataframe tbody tr th {\n",
       "        vertical-align: top;\n",
       "    }\n",
       "\n",
       "    .dataframe thead th {\n",
       "        text-align: right;\n",
       "    }\n",
       "</style>\n",
       "<table border=\"1\" class=\"dataframe\">\n",
       "  <thead>\n",
       "    <tr style=\"text-align: right;\">\n",
       "      <th></th>\n",
       "      <th>Unnamed: 0</th>\n",
       "      <th>인구수</th>\n",
       "      <th>shortName</th>\n",
       "      <th>x</th>\n",
       "      <th>y</th>\n",
       "      <th>면적</th>\n",
       "      <th>광역시도</th>\n",
       "      <th>행정구역</th>\n",
       "    </tr>\n",
       "  </thead>\n",
       "  <tbody>\n",
       "    <tr>\n",
       "      <th>224</th>\n",
       "      <td>224</td>\n",
       "      <td>127462</td>\n",
       "      <td>제천</td>\n",
       "      <td>8</td>\n",
       "      <td>10</td>\n",
       "      <td>882.47</td>\n",
       "      <td>충청북도</td>\n",
       "      <td>제천시</td>\n",
       "    </tr>\n",
       "    <tr>\n",
       "      <th>225</th>\n",
       "      <td>225</td>\n",
       "      <td>34480</td>\n",
       "      <td>증평</td>\n",
       "      <td>6</td>\n",
       "      <td>11</td>\n",
       "      <td>81.84</td>\n",
       "      <td>충청북도</td>\n",
       "      <td>증평군</td>\n",
       "    </tr>\n",
       "    <tr>\n",
       "      <th>226</th>\n",
       "      <td>226</td>\n",
       "      <td>62809</td>\n",
       "      <td>진천</td>\n",
       "      <td>5</td>\n",
       "      <td>11</td>\n",
       "      <td>406.08</td>\n",
       "      <td>충청북도</td>\n",
       "      <td>진천군</td>\n",
       "    </tr>\n",
       "    <tr>\n",
       "      <th>227</th>\n",
       "      <td>227</td>\n",
       "      <td>790216</td>\n",
       "      <td>청주</td>\n",
       "      <td>6</td>\n",
       "      <td>12</td>\n",
       "      <td>932.51</td>\n",
       "      <td>충청북도</td>\n",
       "      <td>청주시</td>\n",
       "    </tr>\n",
       "    <tr>\n",
       "      <th>228</th>\n",
       "      <td>228</td>\n",
       "      <td>198077</td>\n",
       "      <td>충주</td>\n",
       "      <td>6</td>\n",
       "      <td>10</td>\n",
       "      <td>983.70</td>\n",
       "      <td>충청북도</td>\n",
       "      <td>충주시</td>\n",
       "    </tr>\n",
       "  </tbody>\n",
       "</table>\n",
       "</div>"
      ],
      "text/plain": [
       "     Unnamed: 0     인구수 shortName  x   y      면적  광역시도 행정구역\n",
       "224         224  127462        제천  8  10  882.47  충청북도  제천시\n",
       "225         225   34480        증평  6  11   81.84  충청북도  증평군\n",
       "226         226   62809        진천  5  11  406.08  충청북도  진천군\n",
       "227         227  790216        청주  6  12  932.51  충청북도  청주시\n",
       "228         228  198077        충주  6  10  983.70  충청북도  충주시"
      ]
     },
     "execution_count": 7,
     "metadata": {},
     "output_type": "execute_result"
    }
   ],
   "source": [
    "data.tail()"
   ]
  },
  {
   "cell_type": "code",
   "execution_count": 8,
   "metadata": {},
   "outputs": [
    {
     "name": "stdout",
     "output_type": "stream",
     "text": [
      "colums Index(['Unnamed: 0', '인구수', 'shortName', 'x', 'y', '면적', '광역시도', '행정구역'], dtype='object')\n",
      "index RangeIndex(start=0, stop=229, step=1)\n",
      "values [[0 202520 '강릉' ... 1040.07 '강원도' '강릉시']\n",
      " [1 25589 '고성(강원)' ... 664.19 '강원도' '고성군']\n",
      " [2 86747 '동해' ... 180.01 '강원도' '동해시']\n",
      " ...\n",
      " [226 62809 '진천' ... 406.08 '충청북도' '진천군']\n",
      " [227 790216 '청주' ... 932.51 '충청북도' '청주시']\n",
      " [228 198077 '충주' ... 983.7 '충청북도' '충주시']]\n",
      "info <bound method DataFrame.info of      Unnamed: 0     인구수 shortName   x   y       면적  광역시도 행정구역\n",
      "0             0  202520        강릉  11   4  1040.07   강원도  강릉시\n",
      "1             1   25589    고성(강원)   9   0   664.19   강원도  고성군\n",
      "2             2   86747        동해  11   5   180.01   강원도  동해시\n",
      "3             3   63986        삼척  11   8  1185.80   강원도  삼척시\n",
      "4             4   76733        속초   9   1   105.25   강원도  속초시\n",
      "..          ...     ...       ...  ..  ..      ...   ...  ...\n",
      "224         224  127462        제천   8  10   882.47  충청북도  제천시\n",
      "225         225   34480        증평   6  11    81.84  충청북도  증평군\n",
      "226         226   62809        진천   5  11   406.08  충청북도  진천군\n",
      "227         227  790216        청주   6  12   932.51  충청북도  청주시\n",
      "228         228  198077        충주   6  10   983.70  충청북도  충주시\n",
      "\n",
      "[229 rows x 8 columns]>\n"
     ]
    }
   ],
   "source": [
    "print('colums',data.columns)\n",
    "print('index',data.index)\n",
    "print('values',data.values)\n",
    "print('info',data.info)\n"
   ]
  },
  {
   "cell_type": "code",
   "execution_count": 9,
   "metadata": {},
   "outputs": [
    {
     "name": "stdout",
     "output_type": "stream",
     "text": [
      "<class 'pandas.core.frame.DataFrame'>\n",
      "RangeIndex: 229 entries, 0 to 228\n",
      "Data columns (total 8 columns):\n",
      " #   Column      Non-Null Count  Dtype  \n",
      "---  ------      --------------  -----  \n",
      " 0   Unnamed: 0  229 non-null    int64  \n",
      " 1   인구수         229 non-null    int64  \n",
      " 2   shortName   229 non-null    object \n",
      " 3   x           229 non-null    int64  \n",
      " 4   y           229 non-null    int64  \n",
      " 5   면적          229 non-null    float64\n",
      " 6   광역시도        229 non-null    object \n",
      " 7   행정구역        229 non-null    object \n",
      "dtypes: float64(1), int64(4), object(3)\n",
      "memory usage: 14.4+ KB\n"
     ]
    }
   ],
   "source": [
    "data.info()"
   ]
  },
  {
   "cell_type": "code",
   "execution_count": 10,
   "metadata": {},
   "outputs": [
    {
     "name": "stdout",
     "output_type": "stream",
     "text": [
      "max 1125461\n",
      "min 8392\n",
      "mean 211089.77729257641\n",
      "median 140159.0\n",
      "sum 48339559\n",
      "std 207437.8370475227\n"
     ]
    }
   ],
   "source": [
    "#인구수 의 최대,최소,평균,중간값,합계 , 표준편차\n",
    "print('max', data['인구수'].max())\n",
    "print('min', data['인구수'].min())\n",
    "print('mean', data['인구수'].mean())\n",
    "print('median', data['인구수'].median())\n",
    "print('sum', data['인구수'].sum())\n",
    "print('std', data['인구수'].std())\n"
   ]
  },
  {
   "cell_type": "code",
   "execution_count": 11,
   "metadata": {},
   "outputs": [
    {
     "data": {
      "text/plain": [
       "array(['강원도', '경기도', '경상남도', '경상북도', '광주광역시', '대구광역시', '대전광역시', '부산광역시',\n",
       "       '서울특별시', '세종특별자치시', '울산광역시', '인천광역시', '전라남도', '전라북도', '제주특별자치도',\n",
       "       '충청남도', '충청북도'], dtype=object)"
      ]
     },
     "execution_count": 11,
     "metadata": {},
     "output_type": "execute_result"
    }
   ],
   "source": [
    "#unique 한 광역시도 명은?\n",
    "data['광역시도'].unique()"
   ]
  },
  {
   "cell_type": "code",
   "execution_count": 12,
   "metadata": {},
   "outputs": [
    {
     "name": "stdout",
     "output_type": "stream",
     "text": [
      "평균 378845.48387096776\n",
      "편차 304548.39514203876\n"
     ]
    }
   ],
   "source": [
    "#경기도의 인구수 평균과 표준편차\n",
    "경기인구수_평균=data.loc[data['광역시도']=='경기도', '인구수'].mean()\n",
    "print('평균', 경기인구수_평균)\n",
    "경기인구수_편차=data.loc[data['광역시도']=='경기도', '인구수'].std()\n",
    "print('편차', 경기인구수_편차)"
   ]
  },
  {
   "cell_type": "code",
   "execution_count": 13,
   "metadata": {},
   "outputs": [
    {
     "name": "stdout",
     "output_type": "stream",
     "text": [
      "평균 79413.22222222222\n",
      "편차 87316.38323837094\n"
     ]
    },
    {
     "ename": "NameError",
     "evalue": "name 'result' is not defined",
     "output_type": "error",
     "traceback": [
      "\u001b[1;31m---------------------------------------------------------------------------\u001b[0m",
      "\u001b[1;31mNameError\u001b[0m                                 Traceback (most recent call last)",
      "\u001b[1;32m<ipython-input-13-bd5067ea5443>\u001b[0m in \u001b[0;36m<module>\u001b[1;34m\u001b[0m\n\u001b[0;32m      5\u001b[0m \u001b[0mprint\u001b[0m\u001b[1;33m(\u001b[0m\u001b[1;34m'편차'\u001b[0m\u001b[1;33m,\u001b[0m \u001b[0m강원인구수_편차\u001b[0m\u001b[1;33m)\u001b[0m\u001b[1;33m\u001b[0m\u001b[1;33m\u001b[0m\u001b[0m\n\u001b[0;32m      6\u001b[0m \u001b[1;33m\u001b[0m\u001b[0m\n\u001b[1;32m----> 7\u001b[1;33m \u001b[0mresult\u001b[0m\u001b[1;33m\u001b[0m\u001b[1;33m\u001b[0m\u001b[0m\n\u001b[0m",
      "\u001b[1;31mNameError\u001b[0m: name 'result' is not defined"
     ]
    }
   ],
   "source": [
    "#강원도의 인구수 평균과 표준편차\n",
    "강원인구수_평균=data.loc[data['광역시도']=='강원도', '인구수'].mean()\n",
    "print('평균', 강원인구수_평균)\n",
    "강원인구수_편차=data.loc[data['광역시도']=='강원도', '인구수'].std()\n",
    "print('편차', 강원인구수_편차)\n",
    "\n",
    "result"
   ]
  },
  {
   "cell_type": "code",
   "execution_count": null,
   "metadata": {},
   "outputs": [],
   "source": [
    "# 1. 모든 행과 인구수, 행정구역 2개의 컬럼만 선택하기\n",
    "# head() 사용\n",
    "\n",
    "data.loc[ : , ['인구수','행정구역']]"
   ]
  },
  {
   "cell_type": "code",
   "execution_count": null,
   "metadata": {},
   "outputs": [],
   "source": [
    "#2 .모든행과 인구수부터 광역시도 컬럼까지 선택하기 (slicing)\n",
    "\n",
    "data.loc[:, '인구수':'광역시도']"
   ]
  },
  {
   "cell_type": "code",
   "execution_count": null,
   "metadata": {},
   "outputs": [],
   "source": [
    "#3인덱스가 0,3,5인 행과 모든 컬럼을 선택하기\n",
    "data.loc[[0,3,5], :]"
   ]
  },
  {
   "cell_type": "code",
   "execution_count": null,
   "metadata": {},
   "outputs": [],
   "source": [
    "#4인덱스가 0부터 10까지인 행과 모든 컬럼 선택하기 \n",
    "data.loc[0:10,:]"
   ]
  },
  {
   "cell_type": "code",
   "execution_count": null,
   "metadata": {},
   "outputs": [],
   "source": [
    "#5\n",
    "data.loc[0:20:4, :]"
   ]
  },
  {
   "cell_type": "code",
   "execution_count": null,
   "metadata": {},
   "outputs": [],
   "source": [
    "#6\n",
    "data.loc[0:19,['행정구역', '광역시도']]"
   ]
  },
  {
   "cell_type": "code",
   "execution_count": null,
   "metadata": {},
   "outputs": [],
   "source": [
    "# 7\n",
    "data.loc[10:30:10, ['광역시도', '행정구역', '인구수', '면적']]"
   ]
  },
  {
   "cell_type": "code",
   "execution_count": null,
   "metadata": {},
   "outputs": [],
   "source": [
    "# 8 \n",
    "data.loc[data['광역시도']=='서울특별시', :].sort_values(by='인구수',ascending=False).reset_index(drop=True)\n"
   ]
  },
  {
   "cell_type": "code",
   "execution_count": null,
   "metadata": {},
   "outputs": [],
   "source": [
    "# 9 \n",
    "data.loc[data['광역시도']=='경상북도', ['광역시도','행정구역','인구수']].sort_values(by='인구수',ascending=False)"
   ]
  },
  {
   "cell_type": "code",
   "execution_count": null,
   "metadata": {},
   "outputs": [],
   "source": [
    "#10\n",
    "\n",
    "data.loc[data['광역시도']=='인천광역시', '인구수':'행정구역']"
   ]
  },
  {
   "cell_type": "code",
   "execution_count": null,
   "metadata": {},
   "outputs": [],
   "source": [
    "#행과 열을 선택할때 인덱스로 선택할때 iloc사용\n",
    "#컬럼명 대신에 컬럼인덱스 사용\n",
    "\n",
    "\n",
    "data.iloc[0:5,0:5]"
   ]
  },
  {
   "cell_type": "code",
   "execution_count": null,
   "metadata": {},
   "outputs": [],
   "source": [
    "#컬럼명 변경 'unnamed: 0 '-> ' seq'\n",
    "data = data.rename(columns={'Unnamed: 0' : 'seq'}) #변경된 결과를 반영시켜줘야한다. !\n",
    "data.head(2)"
   ]
  },
  {
   "cell_type": "code",
   "execution_count": null,
   "metadata": {},
   "outputs": [],
   "source": [
    "data = data.set_index('seq')"
   ]
  },
  {
   "cell_type": "markdown",
   "metadata": {},
   "source": [
    "### 광역시도별 인구수가 가장 많은 지역\n",
    "*unique(), value_"
   ]
  },
  {
   "cell_type": "code",
   "execution_count": null,
   "metadata": {},
   "outputs": [],
   "source": [
    "#11. 인구수의 평균인구수 보다 작은 지역은?\n",
    "인구수_평균=data.loc[:, '인구수'].mean()\n",
    "print('평균', 인구수_평균)\n",
    "\n",
    "pop_data = data.loc[data['인구수']<=인구수_평균, :].sort_values(by='인구수').reset_index(drop=True)\n",
    "pop_data.head()\n",
    "\n",
    "pop_data.to_excel('data/평균인구수미만지역_.xls',)"
   ]
  },
  {
   "cell_type": "code",
   "execution_count": null,
   "metadata": {},
   "outputs": [],
   "source": [
    "#12.면적이 평균면적보다 넓은 지역은?\n",
    "평균면적=data.loc[:, '면적'].mean()\n",
    "print(평균면적)\n",
    "\n",
    "data.loc[data['면적']> 평균면적, :]"
   ]
  },
  {
   "cell_type": "code",
   "execution_count": null,
   "metadata": {},
   "outputs": [],
   "source": [
    "#13.인구수가 평균보다 높고, 면적도 평균보다 넓은 지역은?\n",
    "인구수_평균=data.loc[:, '인구수'].mean()\n",
    "평균면적=data.loc[:, '면적'].mean()\n",
    "mydata=data.loc[(data['인구수']>인구수_평균)&(data['면적']>평균면적), : ]\n",
    "mydata.to_excel('data/인구수 평균이랑 면적 평균이상.xlsx')\n"
   ]
  },
  {
   "cell_type": "code",
   "execution_count": null,
   "metadata": {},
   "outputs": [],
   "source": [
    "data.loc[data['행정구역'],'면적'].min()"
   ]
  },
  {
   "cell_type": "markdown",
   "metadata": {},
   "source": [
    "### data selection\n",
    "*loc[] iloc[] 사용\n",
    "\n",
    "*행과 열을 선택하는 방법 \n",
    "\n",
    "*slicing을 사용\n",
    "\n",
    "*특정행과 열을 여러개 선택 [ ] 를 사용\n",
    "\n",
    "*조건식으로 특정행을 선택(boolean indexing)\n"
   ]
  },
  {
   "cell_type": "code",
   "execution_count": null,
   "metadata": {},
   "outputs": [],
   "source": [
    "data.loc[(data['광역시도']=='경기도') & (data['인구수']> 인구수_평균)].sort_values(by='인구수',ascending=False).reset_index(drop=True)"
   ]
  },
  {
   "cell_type": "code",
   "execution_count": null,
   "metadata": {},
   "outputs": [],
   "source": [
    "print(type(data['광역시도'].unique()))\n",
    "data['광역시도'].unique()"
   ]
  },
  {
   "cell_type": "code",
   "execution_count": null,
   "metadata": {},
   "outputs": [],
   "source": [
    "data['광역시도'].value_counts()"
   ]
  },
  {
   "cell_type": "code",
   "execution_count": null,
   "metadata": {},
   "outputs": [],
   "source": [
    "#강원도에서 가장 높은 인구수는?\n",
    "pop_toto=data.loc[data['광역시도']=='강원도','인구수'].max()\n",
    "print(pop_toto)\n",
    "data.loc[data['인구수']==pop_toto, ['광역시도', '행정구역', '인구수']]"
   ]
  },
  {
   "cell_type": "code",
   "execution_count": null,
   "metadata": {},
   "outputs": [],
   "source": [
    "#광역시도 인자로 받아서 광역시도 중에서 인구수가 가장 많은 지역정보 반환\n",
    "def get_pop_max_p(sido):\n",
    "    \n",
    "    pop_toto=data.loc[data['광역시도']==sido,'인구수'].max()\n",
    "    print(pop_toto)\n",
    "    return data.loc[data['인구수']==pop_toto, ['광역시도', '행정구역', '인구수']]\n",
    "    "
   ]
  },
  {
   "cell_type": "code",
   "execution_count": null,
   "metadata": {},
   "outputs": [],
   "source": [
    "get_pop_max_p('서울특별시')"
   ]
  },
  {
   "cell_type": "code",
   "execution_count": null,
   "metadata": {},
   "outputs": [],
   "source": [
    "for sido_name in data['광역시도'].unique():\n",
    "    #print(sido_name)\n",
    "    print(get_pop_max_p(sido_name))\n",
    "    \n",
    "    \n"
   ]
  },
  {
   "cell_type": "code",
   "execution_count": null,
   "metadata": {},
   "outputs": [],
   "source": [
    "#d위에거를 예쁘게 표로 만드려면???\n",
    "\n",
    "pop_totof=pd.DataFrame(columns=['광역시도','행정구역','인구'])\n",
    "\n",
    "#datafrome 객체 생성\n",
    "\n",
    "  \n",
    "for sido_name in data['광역시도'].unique():\n",
    "    \n",
    "    pop_totof= pop_totof.append(get_pop_max_p(sido_name))\n",
    "pop_totof = pop_totof.reset_index(drop=True)\n",
    "pop_totof"
   ]
  },
  {
   "cell_type": "markdown",
   "metadata": {},
   "source": [
    "## numpy 사용"
   ]
  },
  {
   "cell_type": "code",
   "execution_count": null,
   "metadata": {},
   "outputs": [],
   "source": [
    "#0부터 시작하는 index값을 1부터 시작하도록 변경\n",
    "\n",
    "#index확인\n",
    "pop_totof.index"
   ]
  },
  {
   "cell_type": "code",
   "execution_count": null,
   "metadata": {},
   "outputs": [],
   "source": [
    "import numpy as np\n",
    "\n",
    "\n",
    "np.arange(1,10+1)\n",
    "\n",
    "len(pop_totof.index)"
   ]
  },
  {
   "cell_type": "code",
   "execution_count": null,
   "metadata": {},
   "outputs": [],
   "source": [
    "#ㅑㅇㄷㅌ\n",
    "for val in np.arange(1,10+1):\n",
    "    print(val)"
   ]
  },
  {
   "cell_type": "code",
   "execution_count": null,
   "metadata": {},
   "outputs": [],
   "source": [
    "\n",
    "pop_totof.index = np.arange(1,len(pop_totof)+1)\n",
    "print(pop_totof.index)"
   ]
  },
  {
   "cell_type": "markdown",
   "metadata": {},
   "source": [
    "### 광역시도별 면적이 가장 넓은 지역을 표 데이터로 마드세요\n",
    "\n",
    "*광역시도, 행정구역, 면적 칼럼\n",
    "*index는 1부터 시작하도록, 면적이 가장 넓은 순서대로\n",
    "*엑실루 저장"
   ]
  },
  {
   "cell_type": "code",
   "execution_count": null,
   "metadata": {},
   "outputs": [],
   "source": [
    "data.loc[data['광역시도'],'면적'].max()\n",
    "print(ddang_size_king)\n",
    "data.loc[data['면적']==ddang_size_king, ['광역시도', '행정구역', '면적']]"
   ]
  },
  {
   "cell_type": "code",
   "execution_count": null,
   "metadata": {},
   "outputs": [],
   "source": [
    "ddang_king = data.loc[data['광역시도']=='서울특별시','면적'].max()\n",
    "print(ddang_king)\n",
    "data.loc[data['면적']==ddang_king, ['광역시도', '행정구역', '면적']]\n",
    "\n"
   ]
  },
  {
   "cell_type": "code",
   "execution_count": null,
   "metadata": {},
   "outputs": [],
   "source": [
    "def ddang_f(sido):\n",
    "    ddang_king = data.loc[data['광역시도']==sido,'면적'].max()\n",
    "    #print(ddang_king)\n",
    "    return data.loc[data['면적']==ddang_king, ['광역시도', '행정구역', '면적']]\n",
    "    \n",
    "ddang_f('서울특별시')"
   ]
  },
  {
   "cell_type": "code",
   "execution_count": null,
   "metadata": {},
   "outputs": [],
   "source": [
    "final_ddang_f=pd.DataFrame(columns=['광역시도', '행정구역', '면적'])\n",
    "\n",
    "\n",
    "#datafrome 객체 생성\n",
    "\n",
    "  \n",
    "for sido_name in data['광역시도'].unique():\n",
    "    \n",
    "    final_ddang_f= final_ddang_f.append(ddang_f(sido_name))\n",
    "final_ddang_f = final_ddang_f.sort_values(by='면적',ascending=False).reset_index(drop=True)\n",
    "final_ddang_f\n",
    "\n",
    "\n"
   ]
  },
  {
   "cell_type": "code",
   "execution_count": null,
   "metadata": {},
   "outputs": [],
   "source": [
    "for sido_name in data['광역시도'].unique():\n",
    "    \n",
    "    final_ddang_f= final_ddang_f.append(ddang_f(sido_name))\n",
    "final_ddang_f = final_ddang_f.sort_values(by='면적',ascending=False).\n",
    "final_ddang_f\n",
    "\n",
    "\n",
    "final_ddang_f.index = np.arange(1,len(final_ddang_f)+1)\n",
    "print(final_ddang_f.index\n",
    "      \n",
    "\n"
   ]
  },
  {
   "cell_type": "code",
   "execution_count": null,
   "metadata": {},
   "outputs": [],
   "source": [
    "import numpy as np\n",
    "\n",
    "final_ddang_f.index = np.arange(1,len(final_ddang_f)+1)\n",
    "\n",
    "final_ddang_f.to_excel('data/면적 과제.xlsx')"
   ]
  },
  {
   "cell_type": "markdown",
   "metadata": {},
   "source": [
    "### 상관계수\n",
    "*인구수와 면적 간의 어느 정도의 관력성이 있는 지 보기 위해서\n",
    "\n",
    "*상관계수는 -1~1 사이의 값\n",
    "\n",
    "*0에 가까울수록 서로 관련성이 없음. 1에 가까울수록 서로 관련성이 있다. \n",
    "\n",
    "-corr()함수를 사용한다\n"
   ]
  },
  {
   "cell_type": "code",
   "execution_count": null,
   "metadata": {},
   "outputs": [],
   "source": [
    "#전체 행정구역에서의 면적과 인구수의 상관계수\n",
    "data['면적'].corr(data['인구수'])"
   ]
  },
  {
   "cell_type": "code",
   "execution_count": null,
   "metadata": {},
   "outputs": [],
   "source": [
    "def get_corr_value(sido):\n",
    "    sido_df = data.loc[data['광역시도']==sido]\n",
    "    return sido_df['면적'].corr(sido_df['인구수'])\n",
    "get_corr_value('경기도')"
   ]
  },
  {
   "cell_type": "raw",
   "metadata": {},
   "source": [
    "get_corr_value('서울특별시')"
   ]
  },
  {
   "cell_type": "code",
   "execution_count": null,
   "metadata": {},
   "outputs": [],
   "source": [
    "get_corr_value('서울특별시')"
   ]
  },
  {
   "cell_type": "markdown",
   "metadata": {},
   "source": [
    "### 드뎌ㅑ 시각화!!!!!!!!!!!!!!!!!!!!!!!!!!!dks아니고 group by 기능 사용하기\n",
    "*series객체의 group by() -컬럽값을 인자로 전달한다.\n",
    "\n",
    "*dataframe 객체의 groupby() - 컬럼명을 인자로 전달한다.\n",
    "\n",
    "*~별에 해당하는 컬럼명은 groupby() 함수의 인자로 전달한다.\n"
   ]
  },
  {
   "cell_type": "code",
   "execution_count": null,
   "metadata": {},
   "outputs": [],
   "source": [
    "data['광역시도'].value_counts()"
   ]
  },
  {
   "cell_type": "code",
   "execution_count": null,
   "metadata": {},
   "outputs": [],
   "source": [
    "#광역시도별 인구수의 합계 구하기\n",
    "data['인구수'].groupby(data['광역시도']).sum()"
   ]
  },
  {
   "cell_type": "code",
   "execution_count": null,
   "metadata": {},
   "outputs": [],
   "source": [
    "data['인구수'].groupby(data['광역시도']).sum().sort_values(ascending=False)"
   ]
  },
  {
   "cell_type": "code",
   "execution_count": null,
   "metadata": {},
   "outputs": [],
   "source": [
    "#광역시도별 인구수의 합계 - DataFrame 객체\n",
    "#data['인구수'].groupby(data['광역시도'])\n",
    "#DataFramneGroupBy를 반환\n",
    "data.groupby('광역시도').sum()"
   ]
  },
  {
   "cell_type": "code",
   "execution_count": null,
   "metadata": {},
   "outputs": [],
   "source": [
    "data.groupby('광역시도')['인구수'].sum()"
   ]
  },
  {
   "cell_type": "code",
   "execution_count": null,
   "metadata": {},
   "outputs": [],
   "source": [
    "data.groupby('광역시도')['면적'].sum().sort_values(ascending=False)"
   ]
  },
  {
   "cell_type": "code",
   "execution_count": null,
   "metadata": {},
   "outputs": [],
   "source": [
    "group_df=data.groupby(['광역시도','행정구역'])['인구수'].sum() #주개주고싶으면 []\n",
    "group_df.to('data/group_df.xlsx',sheet_name='인구수')"
   ]
  },
  {
   "cell_type": "code",
   "execution_count": null,
   "metadata": {},
   "outputs": [],
   "source": [
    "#광역시도별 인구수의 max, mean, std 구하기\n",
    "# 한꺼번에 하려면!!! 여러번의 집계함수를 한꺼번에 사용하려면 agg() 함수 사용\n",
    "data.groupby('광역시도')['인구수'].agg(['max','mean','std'])"
   ]
  },
  {
   "cell_type": "code",
   "execution_count": null,
   "metadata": {},
   "outputs": [],
   "source": [
    "#넘파이의 std() 호출한 결과를 agg()함수의 인자로 전달하기 \n",
    "\n",
    "import numpy as np\n",
    "\n",
    "def std(x):\n",
    "    return np.std(x)\n",
    "\n",
    "data.groupby(['광역시도'])['인구수'].agg(['max','mean',std]).sort_values(by='std',ascending=False)"
   ]
  },
  {
   "cell_type": "code",
   "execution_count": null,
   "metadata": {
    "scrolled": true
   },
   "outputs": [],
   "source": [
    "def std(x):\n",
    "    return np.std(x)\n",
    "\n",
    "g = data.groupby(['광역시도'])['인구수'].agg(['max','mean',std]).sort_values(by='std',ascending=False)\n",
    "g"
   ]
  },
  {
   "cell_type": "code",
   "execution_count": null,
   "metadata": {},
   "outputs": [],
   "source": [
    "#index를 컬럼으로 변환하기 reset_index()함수의 level속성에 변환할 컬럼명을 설정\n",
    "#reset_index()dml inplace 의 default가 false, 객체를 변경하지는 않고 출력만 한다. \n",
    "#reset_index()dml inplace 의 default가 rtue 이면 객체를 변경하고 출력은 하지않는다\n",
    "g.reset_index(level='광역시도',inplace=True)\n"
   ]
  },
  {
   "cell_type": "code",
   "execution_count": null,
   "metadata": {},
   "outputs": [],
   "source": [
    "g"
   ]
  },
  {
   "cell_type": "code",
   "execution_count": null,
   "metadata": {},
   "outputs": [],
   "source": [
    "g.T"
   ]
  },
  {
   "cell_type": "code",
   "execution_count": null,
   "metadata": {},
   "outputs": [],
   "source": [
    "g.transfose()"
   ]
  },
  {
   "cell_type": "markdown",
   "metadata": {},
   "source": [
    "## 시각화\n",
    "*jupyter notebook 에서 플롯팅 옵션 설정\n",
    "\n",
    "*matplotlib,seaborn 라이브러리 import\n",
    "\n",
    "\n",
    "*한글 폰트 설정"
   ]
  },
  {
   "cell_type": "code",
   "execution_count": null,
   "metadata": {},
   "outputs": [],
   "source": [
    "#notebook에 plot이 그려지게 하기 위한 설정\n",
    "#이 설정을 하면 show()함수를 호출하지 않아도 plot이 그려진다.\n",
    "\n",
    "%matplotlib inline"
   ]
  },
  {
   "cell_type": "code",
   "execution_count": null,
   "metadata": {},
   "outputs": [],
   "source": [
    "import matplotlib\n",
    "import matplotlib.pyplot as plt\n",
    "import matplotlib.font_manager as fm\n",
    "import seaborn as sns\n",
    "\n",
    "print('matplotlib', matplotlib.__version__)"
   ]
  },
  {
   "cell_type": "code",
   "execution_count": null,
   "metadata": {},
   "outputs": [],
   "source": [
    "#g한글 폰트 설정\n",
    "font_path = 'c:/windows/fonts/malgun.ttf'\n",
    "font_prop = fm.FontProperties(fname=font_path).get_name()\n",
    "font_prop\n",
    "#matplotlib의 rc(run command)함수를 사용해서 한글폰트 설정\n",
    "matplotlib.rc('font',family=font_prop)"
   ]
  },
  {
   "cell_type": "markdown",
   "metadata": {},
   "source": [
    "*Figure 와 Axes 객체를 생성\n",
    "\n",
    "-Figure는 그림이 그려지는 도화지\n",
    "\n",
    "-axes는 plot이 그려지는 공간\n",
    "\n",
    "-figure 에 axes를 하나만 생성할 수도 있고\n",
    "\n",
    "-figure 에 axes를 여러개 생성해서 화면을 분할 할 수도 있음\n",
    "\n",
    "-seaborn에서 제공하는 막대그래프를 그릴수 있는 barplot()함수 사용\n",
    " - 서울특별시의 행정구역별로 인구수\n",
    " - 서울특별시의 행정구역별로 면적"
   ]
  },
  {
   "cell_type": "code",
   "execution_count": 16,
   "metadata": {},
   "outputs": [
    {
     "ename": "NameError",
     "evalue": "name 'plt' is not defined",
     "output_type": "error",
     "traceback": [
      "\u001b[1;31m---------------------------------------------------------------------------\u001b[0m",
      "\u001b[1;31mNameError\u001b[0m                                 Traceback (most recent call last)",
      "\u001b[1;32m<ipython-input-16-4508eb82c160>\u001b[0m in \u001b[0;36m<module>\u001b[1;34m\u001b[0m\n\u001b[0;32m     26\u001b[0m     \u001b[0mprint\u001b[0m\u001b[1;33m(\u001b[0m\u001b[0maxes2\u001b[0m\u001b[1;33m)\u001b[0m\u001b[1;33m\u001b[0m\u001b[1;33m\u001b[0m\u001b[0m\n\u001b[0;32m     27\u001b[0m \u001b[1;33m\u001b[0m\u001b[0m\n\u001b[1;32m---> 28\u001b[1;33m \u001b[0mfinal_gf\u001b[0m\u001b[1;33m(\u001b[0m\u001b[1;34m'부산광역시'\u001b[0m\u001b[1;33m)\u001b[0m\u001b[1;33m\u001b[0m\u001b[1;33m\u001b[0m\u001b[0m\n\u001b[0m",
      "\u001b[1;32m<ipython-input-16-4508eb82c160>\u001b[0m in \u001b[0;36mfinal_gf\u001b[1;34m(sido)\u001b[0m\n\u001b[0;32m      8\u001b[0m \u001b[1;31m#figure와 axex객체 2개 생성\u001b[0m\u001b[1;33m\u001b[0m\u001b[1;33m\u001b[0m\u001b[1;33m\u001b[0m\u001b[0m\n\u001b[0;32m      9\u001b[0m \u001b[1;33m\u001b[0m\u001b[0m\n\u001b[1;32m---> 10\u001b[1;33m     \u001b[0mfigure\u001b[0m\u001b[1;33m,\u001b[0m\u001b[1;33m(\u001b[0m\u001b[0maxes1\u001b[0m\u001b[1;33m,\u001b[0m\u001b[0maxes2\u001b[0m\u001b[1;33m)\u001b[0m\u001b[1;33m=\u001b[0m\u001b[0mplt\u001b[0m\u001b[1;33m.\u001b[0m\u001b[0msubplots\u001b[0m\u001b[1;33m(\u001b[0m\u001b[0mnrows\u001b[0m\u001b[1;33m=\u001b[0m\u001b[1;36m2\u001b[0m\u001b[1;33m,\u001b[0m\u001b[0mncols\u001b[0m\u001b[1;33m=\u001b[0m\u001b[1;36m1\u001b[0m\u001b[1;33m)\u001b[0m\u001b[1;33m\u001b[0m\u001b[1;33m\u001b[0m\u001b[0m\n\u001b[0m\u001b[0;32m     11\u001b[0m     \u001b[1;31m#figure size 조절\u001b[0m\u001b[1;33m\u001b[0m\u001b[1;33m\u001b[0m\u001b[1;33m\u001b[0m\u001b[0m\n\u001b[0;32m     12\u001b[0m     \u001b[0mfigure\u001b[0m\u001b[1;33m.\u001b[0m\u001b[0mset_size_inches\u001b[0m\u001b[1;33m(\u001b[0m\u001b[1;36m18\u001b[0m\u001b[1;33m,\u001b[0m\u001b[1;36m12\u001b[0m\u001b[1;33m)\u001b[0m\u001b[1;33m\u001b[0m\u001b[1;33m\u001b[0m\u001b[0m\n",
      "\u001b[1;31mNameError\u001b[0m: name 'plt' is not defined"
     ]
    }
   ],
   "source": [
    "\n",
    "def final_gf(sido):\n",
    "    t = data.loc[data['광역시도']==sido]\n",
    "    \n",
    "                 \n",
    "\n",
    "\n",
    "\n",
    "#figure와 axex객체 2개 생성\n",
    "\n",
    "    figure,(axes1,axes2)=plt.subplots(nrows=2,ncols=1)\n",
    "    #figure size 조절\n",
    "    figure.set_size_inches(18,12)\n",
    "\n",
    "\n",
    "\n",
    "    #barplot()- x축에는 행정구역, y축에는 인구수\n",
    "    sns.barplot(x='행정구역',y='인구수',data=t.sort_values(by='인구수',ascending=False),ax=axes1)\n",
    "\n",
    "    sns.barplot(x='행정구역',y='면적',data=t.sort_values(by='면적',ascending=False),ax=axes2)\n",
    "\n",
    "\n",
    "\n",
    "\n",
    "    print(figure)\n",
    "    print(axes1)\n",
    "    print(axes2)\n",
    "    \n",
    "final_gf('부산광역시')"
   ]
  },
  {
   "cell_type": "code",
   "execution_count": null,
   "metadata": {},
   "outputs": [],
   "source": []
  },
  {
   "cell_type": "code",
   "execution_count": null,
   "metadata": {},
   "outputs": [],
   "source": []
  },
  {
   "cell_type": "code",
   "execution_count": null,
   "metadata": {},
   "outputs": [],
   "source": [
    "seoul_df = data.loc[data['광역시도']=='서울특별시']\n",
    "seoul_df"
   ]
  },
  {
   "cell_type": "code",
   "execution_count": 18,
   "metadata": {},
   "outputs": [
    {
     "ename": "SyntaxError",
     "evalue": "unexpected EOF while parsing (<ipython-input-18-b8f2ee8bfd91>, line 11)",
     "output_type": "error",
     "traceback": [
      "\u001b[1;36m  File \u001b[1;32m\"<ipython-input-18-b8f2ee8bfd91>\"\u001b[1;36m, line \u001b[1;32m11\u001b[0m\n\u001b[1;33m    \u001b[0m\n\u001b[1;37m    ^\u001b[0m\n\u001b[1;31mSyntaxError\u001b[0m\u001b[1;31m:\u001b[0m unexpected EOF while parsing\n"
     ]
    }
   ],
   "source": [
    "###전국의 광역시도별 인구수\n",
    "#figure와 axes생성 = figure 1개에 axes를 작성를 작t성\n",
    "figure.axes1=plt.sublots(nrows=1,ncols=2)\n",
    "\n",
    "figure.set_size_inches(18,12)\n",
    "print(figure)\n",
    "print(axes1)\n",
    "\n",
    "sns.barplot(x='광역시도',y='인구수',data=data.sort_values(by='인구수',ascending=False)\n",
    "\n"
   ]
  }
 ],
 "metadata": {
  "kernelspec": {
   "display_name": "Python 3",
   "language": "python",
   "name": "python3"
  },
  "language_info": {
   "codemirror_mode": {
    "name": "ipython",
    "version": 3
   },
   "file_extension": ".py",
   "mimetype": "text/x-python",
   "name": "python",
   "nbconvert_exporter": "python",
   "pygments_lexer": "ipython3",
   "version": "3.8.3"
  }
 },
 "nbformat": 4,
 "nbformat_minor": 4
}
