{
 "cells": [
  {
   "cell_type": "code",
   "execution_count": 2,
   "metadata": {},
   "outputs": [
    {
     "name": "stdout",
     "output_type": "stream",
     "text": [
      "100\n"
     ]
    },
    {
     "data": {
      "text/plain": [
       "[{'곡명': \"DON'T TOUCH ME\",\n",
       "  '가수': '환불원정대',\n",
       "  '앨범': \"DON'T TOUCH ME\",\n",
       "  '발매일': '2020.10.10',\n",
       "  '장르': '댄스',\n",
       "  '가사': \"Trouble 이래 다 그래세 보인대 어쩔래난 멋 부리네 더 꾸미네yeah I'm a lady 못 말리네 oh불편한 말들이 또 선을 넘어난 또 보란 듯 해내서 보여줘 버려나도 사랑을 원해나도 평화가 편해하지만 모두가 you know자꾸 건드리네 don't touch mebut 내 멋대로 해blah blah blah so whatI don't care yeah yeah내 맘대로 해자꾸 건드리네 don't touch me괜찮아 걱정 마 So good 난 즐거워몇 살을 먹는대도 절대로 난 안 꿀리는 걸따라 하고 싶지 않아wanna be original남의 눈치 보지 않아자꾸 건드리네 don't touch meUhh Tell me who's hotter NadaYou dealing with afour headed monsta어디 와서 싸구려를 팔아참지 않아 you don't want no problems맘대로 맘대로 hey누가 뭐래도 나대로 hey내가 문제라면 답 없지You can look and starebut don't touch me불편한 말들이 또 선을 넘어난 또 보란 듯 해내서 보여줘 버려나도 사랑을 원해나도 평화가 편해하지만 모두가 you know자꾸 건드리네 don't touch mebut 내 멋대로 해blah blah blah so whatI don't care yeah yeah내 맘대로 해자꾸 건드리네 don't touch me괜찮아 걱정 마 So good 난 즐거워몇 살을 먹는대도 절대로 난 안 꿀리는 걸따라 하고 싶지 않아wanna be original남의 눈치 보지 않아자꾸 건드리네 don't touch me때론 눈물이 쏟아지기도 해결국 날 만든 게 눈물이기도 해 익숙해남들 신경 쓰지 마 절대로Never never 누가 뭐래도 멈추지 마자꾸 건드리네 don't touch mebut 내 멋대로 해blah blah blah so whatI don't care yeah yeah내 맘대로 해자꾸 건드리네 don't touch me괜찮아 걱정 마 So good 난 즐거워몇 살을 먹는대도 절대로 난 안 꿀리는 걸따라 하고 싶지 않아wanna be original남의 눈치 보지 않아자꾸 건드리네 don't touch me자꾸 건드리네 don't touch me\"},\n",
       " {'곡명': 'Dynamite',\n",
       "  '가수': '방탄소년단',\n",
       "  '앨범': 'Dynamite (DayTime Version)',\n",
       "  '발매일': '2020.08.24',\n",
       "  '장르': '댄스',\n",
       "  '가사': \"Cos ah ahI’m in the stars tonightSo watch me bring the fireand set the night alightShoes on get up in the mornCup of milk let’s rock and rollKing Kong kick the drumrolling on like a rolling stoneSing song when I’m walking homeJump up to the top LeBronDing dong call me on my phoneIce tea and a game of ping pongThis is getting heavyCan you hear the bass boomI’m readyLife is sweet as honeyYeah this beat cha chinglike moneyDisco overload I’m intothat I’m good to goI'm diamond you know I glow upHey so let’s goCos ah ahI’m in the stars tonightSo watch me bring the fireand set the night alightShining through the citywith a little funk and soulSo I’mma light it uplike dynamite woahBring a friend join the crowdWhoever wanna come alongWord up talk the talkjust move like we off the wallDay or night the sky’s alightSo we dance to the break of dawnLadies and gentlemenI got the medicineso you should keep yaeyes on the ball huhThis is getting heavyCan you hear the bass boomI’m readyLife is sweet as honeyYeah this beat cha chinglike moneyDisco overloadI’m into that I’m good to goI'm diamond you know I glow upLet’s goCos ah ahI’m in the stars tonightSo watch me bring the fireand set the night alightShining through the citywith a little funk and soulSo I’mma light it uplike dynamite woahDynnnnnanana life is dynamiteDynnnnnanana life is dynamiteShining through the citywith a little funk and soulSo I’mma light it uplike dynamite woahDynnnnnanana ehDynnnnnanana ehDynnnnnanana ehLight it up like dynamiteDynnnnnanana ehDynnnnnanana ehDynnnnnanana ehLight it up like dynamiteCos ah ahI’m in the stars tonightSo watch me bring the fireand set the night alightShining through the citywith a little funk and soulSo I’mma light it uplike dynamiteCos ah ahI’m in the stars tonightSo watch me bring the fireand set the night alightShining through the citywith a little funk and soulSo I’mma light it uplike dynamite woahDynnnnnanana life is dynamiteDynnnnnanana life is dynamiteShining through the citywith a little funk and soulSo I’mma light it uplike dynamite woah\"}]"
      ]
     },
     "execution_count": 2,
     "metadata": {},
     "output_type": "execute_result"
    }
   ],
   "source": [
    "import pymongo\n",
    "import json\n",
    "\n",
    "with open('data/songs.json','r',encoding='utf8') as file:\n",
    "    contents = file.read()\n",
    "    songs_json = json.loads(contents)\n",
    "    \n",
    "print(len(songs_json))\n",
    "songs_json[0:2]"
   ]
  },
  {
   "cell_type": "code",
   "execution_count": 14,
   "metadata": {},
   "outputs": [
    {
     "name": "stdout",
     "output_type": "stream",
     "text": [
      "Connection ;  MongoClient(host=['localhost:27017'], document_class=dict, tz_aware=False, connect=True)\n",
      "Database : Database(MongoClient(host=['localhost:27017'], document_class=dict, tz_aware=False, connect=True), 'song_db')\n",
      "DB Name :  song_db\n",
      "collection :  Collection(Database(MongoClient(host=['localhost:27017'], document_class=dict, tz_aware=False, connect=True), 'song_db'), 'songs')\n",
      "col name : songs\n"
     ]
    }
   ],
   "source": [
    "con=pymongo.MongoClient(host='localhost',port=27017)\n",
    "print('Connection ; ', con)\n",
    "db = con.song_db\n",
    "print('Database :', db)\n",
    "print('DB Name : ' ,db.name)\n",
    "\n",
    "col = db.songs\n",
    "print('collection : ', col)\n",
    "print('col name :',col.name)"
   ]
  },
  {
   "cell_type": "code",
   "execution_count": 15,
   "metadata": {},
   "outputs": [
    {
     "ename": "BulkWriteError",
     "evalue": "batch op errors occurred, full error: {'writeErrors': [{'index': 0, 'code': 11000, 'keyPattern': {'_id': 1}, 'keyValue': {'_id': ObjectId('5f9a4f5be3a70dd05eeafb87')}, 'errmsg': \"E11000 duplicate key error collection: song_db.songs index: _id_ dup key: { _id: ObjectId('5f9a4f5be3a70dd05eeafb87') }\", 'op': {'곡명': \"DON'T TOUCH ME\", '가수': '환불원정대', '앨범': \"DON'T TOUCH ME\", '발매일': '2020.10.10', '장르': '댄스', '가사': \"Trouble 이래 다 그래세 보인대 어쩔래난 멋 부리네 더 꾸미네yeah I'm a lady 못 말리네 oh불편한 말들이 또 선을 넘어난 또 보란 듯 해내서 보여줘 버려나도 사랑을 원해나도 평화가 편해하지만 모두가 you know자꾸 건드리네 don't touch mebut 내 멋대로 해blah blah blah so whatI don't care yeah yeah내 맘대로 해자꾸 건드리네 don't touch me괜찮아 걱정 마 So good 난 즐거워몇 살을 먹는대도 절대로 난 안 꿀리는 걸따라 하고 싶지 않아wanna be original남의 눈치 보지 않아자꾸 건드리네 don't touch meUhh Tell me who's hotter NadaYou dealing with afour headed monsta어디 와서 싸구려를 팔아참지 않아 you don't want no problems맘대로 맘대로 hey누가 뭐래도 나대로 hey내가 문제라면 답 없지You can look and starebut don't touch me불편한 말들이 또 선을 넘어난 또 보란 듯 해내서 보여줘 버려나도 사랑을 원해나도 평화가 편해하지만 모두가 you know자꾸 건드리네 don't touch mebut 내 멋대로 해blah blah blah so whatI don't care yeah yeah내 맘대로 해자꾸 건드리네 don't touch me괜찮아 걱정 마 So good 난 즐거워몇 살을 먹는대도 절대로 난 안 꿀리는 걸따라 하고 싶지 않아wanna be original남의 눈치 보지 않아자꾸 건드리네 don't touch me때론 눈물이 쏟아지기도 해결국 날 만든 게 눈물이기도 해 익숙해남들 신경 쓰지 마 절대로Never never 누가 뭐래도 멈추지 마자꾸 건드리네 don't touch mebut 내 멋대로 해blah blah blah so whatI don't care yeah yeah내 맘대로 해자꾸 건드리네 don't touch me괜찮아 걱정 마 So good 난 즐거워몇 살을 먹는대도 절대로 난 안 꿀리는 걸따라 하고 싶지 않아wanna be original남의 눈치 보지 않아자꾸 건드리네 don't touch me자꾸 건드리네 don't touch me\", '_id': ObjectId('5f9a4f5be3a70dd05eeafb87')}}], 'writeConcernErrors': [], 'nInserted': 0, 'nUpserted': 0, 'nMatched': 0, 'nModified': 0, 'nRemoved': 0, 'upserted': []}",
     "output_type": "error",
     "traceback": [
      "\u001b[1;31m---------------------------------------------------------------------------\u001b[0m",
      "\u001b[1;31mBulkWriteError\u001b[0m                            Traceback (most recent call last)",
      "\u001b[1;32m<ipython-input-15-5d663fa295f0>\u001b[0m in \u001b[0;36m<module>\u001b[1;34m\u001b[0m\n\u001b[0;32m      1\u001b[0m \u001b[1;31m#document 건수 확인 insert_many() 함수 사용해서 document 를 등록하기\u001b[0m\u001b[1;33m\u001b[0m\u001b[1;33m\u001b[0m\u001b[1;33m\u001b[0m\u001b[0m\n\u001b[0;32m      2\u001b[0m \u001b[1;33m\u001b[0m\u001b[0m\n\u001b[1;32m----> 3\u001b[1;33m \u001b[0mcol\u001b[0m\u001b[1;33m.\u001b[0m\u001b[0minsert_many\u001b[0m\u001b[1;33m(\u001b[0m\u001b[0msongs_json\u001b[0m\u001b[1;33m)\u001b[0m\u001b[1;33m\u001b[0m\u001b[1;33m\u001b[0m\u001b[0m\n\u001b[0m\u001b[0;32m      4\u001b[0m \u001b[1;33m\u001b[0m\u001b[0m\n\u001b[0;32m      5\u001b[0m \u001b[1;33m\u001b[0m\u001b[0m\n",
      "\u001b[1;32mC:\\ProgramData\\Anaconda3\\lib\\site-packages\\pymongo\\collection.py\u001b[0m in \u001b[0;36minsert_many\u001b[1;34m(self, documents, ordered, bypass_document_validation, session)\u001b[0m\n\u001b[0;32m    759\u001b[0m         \u001b[0mblk\u001b[0m \u001b[1;33m=\u001b[0m \u001b[0m_Bulk\u001b[0m\u001b[1;33m(\u001b[0m\u001b[0mself\u001b[0m\u001b[1;33m,\u001b[0m \u001b[0mordered\u001b[0m\u001b[1;33m,\u001b[0m \u001b[0mbypass_document_validation\u001b[0m\u001b[1;33m)\u001b[0m\u001b[1;33m\u001b[0m\u001b[1;33m\u001b[0m\u001b[0m\n\u001b[0;32m    760\u001b[0m         \u001b[0mblk\u001b[0m\u001b[1;33m.\u001b[0m\u001b[0mops\u001b[0m \u001b[1;33m=\u001b[0m \u001b[1;33m[\u001b[0m\u001b[0mdoc\u001b[0m \u001b[1;32mfor\u001b[0m \u001b[0mdoc\u001b[0m \u001b[1;32min\u001b[0m \u001b[0mgen\u001b[0m\u001b[1;33m(\u001b[0m\u001b[1;33m)\u001b[0m\u001b[1;33m]\u001b[0m\u001b[1;33m\u001b[0m\u001b[1;33m\u001b[0m\u001b[0m\n\u001b[1;32m--> 761\u001b[1;33m         \u001b[0mblk\u001b[0m\u001b[1;33m.\u001b[0m\u001b[0mexecute\u001b[0m\u001b[1;33m(\u001b[0m\u001b[0mwrite_concern\u001b[0m\u001b[1;33m,\u001b[0m \u001b[0msession\u001b[0m\u001b[1;33m=\u001b[0m\u001b[0msession\u001b[0m\u001b[1;33m)\u001b[0m\u001b[1;33m\u001b[0m\u001b[1;33m\u001b[0m\u001b[0m\n\u001b[0m\u001b[0;32m    762\u001b[0m         \u001b[1;32mreturn\u001b[0m \u001b[0mInsertManyResult\u001b[0m\u001b[1;33m(\u001b[0m\u001b[0minserted_ids\u001b[0m\u001b[1;33m,\u001b[0m \u001b[0mwrite_concern\u001b[0m\u001b[1;33m.\u001b[0m\u001b[0macknowledged\u001b[0m\u001b[1;33m)\u001b[0m\u001b[1;33m\u001b[0m\u001b[1;33m\u001b[0m\u001b[0m\n\u001b[0;32m    763\u001b[0m \u001b[1;33m\u001b[0m\u001b[0m\n",
      "\u001b[1;32mC:\\ProgramData\\Anaconda3\\lib\\site-packages\\pymongo\\bulk.py\u001b[0m in \u001b[0;36mexecute\u001b[1;34m(self, write_concern, session)\u001b[0m\n\u001b[0;32m    526\u001b[0m                 \u001b[0mself\u001b[0m\u001b[1;33m.\u001b[0m\u001b[0mexecute_no_results\u001b[0m\u001b[1;33m(\u001b[0m\u001b[0msock_info\u001b[0m\u001b[1;33m,\u001b[0m \u001b[0mgenerator\u001b[0m\u001b[1;33m)\u001b[0m\u001b[1;33m\u001b[0m\u001b[1;33m\u001b[0m\u001b[0m\n\u001b[0;32m    527\u001b[0m         \u001b[1;32melse\u001b[0m\u001b[1;33m:\u001b[0m\u001b[1;33m\u001b[0m\u001b[1;33m\u001b[0m\u001b[0m\n\u001b[1;32m--> 528\u001b[1;33m             \u001b[1;32mreturn\u001b[0m \u001b[0mself\u001b[0m\u001b[1;33m.\u001b[0m\u001b[0mexecute_command\u001b[0m\u001b[1;33m(\u001b[0m\u001b[0mgenerator\u001b[0m\u001b[1;33m,\u001b[0m \u001b[0mwrite_concern\u001b[0m\u001b[1;33m,\u001b[0m \u001b[0msession\u001b[0m\u001b[1;33m)\u001b[0m\u001b[1;33m\u001b[0m\u001b[1;33m\u001b[0m\u001b[0m\n\u001b[0m\u001b[0;32m    529\u001b[0m \u001b[1;33m\u001b[0m\u001b[0m\n\u001b[0;32m    530\u001b[0m \u001b[1;33m\u001b[0m\u001b[0m\n",
      "\u001b[1;32mC:\\ProgramData\\Anaconda3\\lib\\site-packages\\pymongo\\bulk.py\u001b[0m in \u001b[0;36mexecute_command\u001b[1;34m(self, generator, write_concern, session)\u001b[0m\n\u001b[0;32m    361\u001b[0m \u001b[1;33m\u001b[0m\u001b[0m\n\u001b[0;32m    362\u001b[0m         \u001b[1;32mif\u001b[0m \u001b[0mfull_result\u001b[0m\u001b[1;33m[\u001b[0m\u001b[1;34m\"writeErrors\"\u001b[0m\u001b[1;33m]\u001b[0m \u001b[1;32mor\u001b[0m \u001b[0mfull_result\u001b[0m\u001b[1;33m[\u001b[0m\u001b[1;34m\"writeConcernErrors\"\u001b[0m\u001b[1;33m]\u001b[0m\u001b[1;33m:\u001b[0m\u001b[1;33m\u001b[0m\u001b[1;33m\u001b[0m\u001b[0m\n\u001b[1;32m--> 363\u001b[1;33m             \u001b[0m_raise_bulk_write_error\u001b[0m\u001b[1;33m(\u001b[0m\u001b[0mfull_result\u001b[0m\u001b[1;33m)\u001b[0m\u001b[1;33m\u001b[0m\u001b[1;33m\u001b[0m\u001b[0m\n\u001b[0m\u001b[0;32m    364\u001b[0m         \u001b[1;32mreturn\u001b[0m \u001b[0mfull_result\u001b[0m\u001b[1;33m\u001b[0m\u001b[1;33m\u001b[0m\u001b[0m\n\u001b[0;32m    365\u001b[0m \u001b[1;33m\u001b[0m\u001b[0m\n",
      "\u001b[1;32mC:\\ProgramData\\Anaconda3\\lib\\site-packages\\pymongo\\bulk.py\u001b[0m in \u001b[0;36m_raise_bulk_write_error\u001b[1;34m(full_result)\u001b[0m\n\u001b[0;32m    138\u001b[0m         full_result[\"writeErrors\"].sort(\n\u001b[0;32m    139\u001b[0m             key=lambda error: error[\"index\"])\n\u001b[1;32m--> 140\u001b[1;33m     \u001b[1;32mraise\u001b[0m \u001b[0mBulkWriteError\u001b[0m\u001b[1;33m(\u001b[0m\u001b[0mfull_result\u001b[0m\u001b[1;33m)\u001b[0m\u001b[1;33m\u001b[0m\u001b[1;33m\u001b[0m\u001b[0m\n\u001b[0m\u001b[0;32m    141\u001b[0m \u001b[1;33m\u001b[0m\u001b[0m\n\u001b[0;32m    142\u001b[0m \u001b[1;33m\u001b[0m\u001b[0m\n",
      "\u001b[1;31mBulkWriteError\u001b[0m: batch op errors occurred, full error: {'writeErrors': [{'index': 0, 'code': 11000, 'keyPattern': {'_id': 1}, 'keyValue': {'_id': ObjectId('5f9a4f5be3a70dd05eeafb87')}, 'errmsg': \"E11000 duplicate key error collection: song_db.songs index: _id_ dup key: { _id: ObjectId('5f9a4f5be3a70dd05eeafb87') }\", 'op': {'곡명': \"DON'T TOUCH ME\", '가수': '환불원정대', '앨범': \"DON'T TOUCH ME\", '발매일': '2020.10.10', '장르': '댄스', '가사': \"Trouble 이래 다 그래세 보인대 어쩔래난 멋 부리네 더 꾸미네yeah I'm a lady 못 말리네 oh불편한 말들이 또 선을 넘어난 또 보란 듯 해내서 보여줘 버려나도 사랑을 원해나도 평화가 편해하지만 모두가 you know자꾸 건드리네 don't touch mebut 내 멋대로 해blah blah blah so whatI don't care yeah yeah내 맘대로 해자꾸 건드리네 don't touch me괜찮아 걱정 마 So good 난 즐거워몇 살을 먹는대도 절대로 난 안 꿀리는 걸따라 하고 싶지 않아wanna be original남의 눈치 보지 않아자꾸 건드리네 don't touch meUhh Tell me who's hotter NadaYou dealing with afour headed monsta어디 와서 싸구려를 팔아참지 않아 you don't want no problems맘대로 맘대로 hey누가 뭐래도 나대로 hey내가 문제라면 답 없지You can look and starebut don't touch me불편한 말들이 또 선을 넘어난 또 보란 듯 해내서 보여줘 버려나도 사랑을 원해나도 평화가 편해하지만 모두가 you know자꾸 건드리네 don't touch mebut 내 멋대로 해blah blah blah so whatI don't care yeah yeah내 맘대로 해자꾸 건드리네 don't touch me괜찮아 걱정 마 So good 난 즐거워몇 살을 먹는대도 절대로 난 안 꿀리는 걸따라 하고 싶지 않아wanna be original남의 눈치 보지 않아자꾸 건드리네 don't touch me때론 눈물이 쏟아지기도 해결국 날 만든 게 눈물이기도 해 익숙해남들 신경 쓰지 마 절대로Never never 누가 뭐래도 멈추지 마자꾸 건드리네 don't touch mebut 내 멋대로 해blah blah blah so whatI don't care yeah yeah내 맘대로 해자꾸 건드리네 don't touch me괜찮아 걱정 마 So good 난 즐거워몇 살을 먹는대도 절대로 난 안 꿀리는 걸따라 하고 싶지 않아wanna be original남의 눈치 보지 않아자꾸 건드리네 don't touch me자꾸 건드리네 don't touch me\", '_id': ObjectId('5f9a4f5be3a70dd05eeafb87')}}], 'writeConcernErrors': [], 'nInserted': 0, 'nUpserted': 0, 'nMatched': 0, 'nModified': 0, 'nRemoved': 0, 'upserted': []}"
     ]
    }
   ],
   "source": [
    "#document 건수 확인 insert_many() 함수 사용해서 document 를 등록하기\n",
    "\n",
    "col.insert_many(songs_json)\n",
    "\n",
    "    \n",
    "col.count_documents({})"
   ]
  },
  {
   "cell_type": "code",
   "execution_count": 17,
   "metadata": {},
   "outputs": [
    {
     "name": "stdout",
     "output_type": "stream",
     "text": [
      "환불원정대\n",
      "방탄소년단\n",
      "BLACKPINK\n",
      "산들\n",
      "Crush\n",
      "박진영\n",
      "임창정\n",
      "스탠딩 에그\n",
      "Jawsh 685\n",
      "제시 (Jessi)\n",
      "규현 (KYUHYUN)\n",
      "화사 (Hwa Sa)\n",
      "BLACKPINK\n",
      "아이유\n",
      "오마이걸 (OH MY GIRL)\n",
      "싹쓰리 (유두래곤, 린다G, 비룡)\n",
      "조정석\n",
      "이하이\n",
      "블루 (BLOO)\n",
      "오반\n",
      "마마무 (Mamamoo)\n",
      "노을\n",
      "Tones And I\n",
      "아이유\n",
      "AKMU (악동뮤지션)\n",
      "Maroon 5\n",
      "창모 (CHANGMO)\n",
      "방탄소년단\n",
      "전상근\n",
      "백지영\n",
      "장범준\n",
      "오마이걸 (OH MY GIRL)\n",
      "폴킴\n",
      "마크툽 (MAKTUB)\n",
      "전미도\n",
      "(여자)아이들\n",
      "Anne-Marie\n",
      "BLACKPINK\n",
      "신예영\n",
      "청하\n",
      "Crush\n",
      "순순희\n",
      "지코 (ZICO)\n",
      "ITZY (있지)\n",
      "Dua Lipa\n",
      "아이유\n",
      "로꼬\n",
      "엠씨더맥스 (M.C the MAX)\n",
      "방탄소년단\n",
      "먼데이 키즈 (Monday Kiz)\n",
      "폴킴\n",
      "선미\n",
      "지코 (ZICO)\n",
      "방탄소년단\n",
      "BLACKPINK\n",
      "바이브\n",
      "Etham\n",
      "가호 (Gaho)\n",
      "Conan Gray\n",
      "아이유\n",
      "임영웅\n",
      "아이유\n",
      "조이 (JOY)\n",
      "Red Velvet (레드벨벳)\n",
      "오반\n",
      "Lauv\n",
      "카더가든\n",
      "싹쓰리 (유두래곤, 린다G, 비룡)\n",
      "폴킴\n",
      "BLACKPINK\n",
      "황인욱\n",
      "김필\n",
      "Crush\n",
      "이수현\n",
      "마크툽 (MAKTUB)\n",
      "Billie Eilish\n",
      "규현 (KYUHYUN)\n",
      "볼빨간사춘기\n",
      "김준수\n",
      "Ruel\n",
      "HYNN (박혜원)\n",
      "비룡\n",
      "송하예\n",
      "Crush\n",
      "Ariana Grande\n",
      "진민호\n",
      "백현 (BAEKHYUN)\n",
      "임창정\n",
      "헤이즈 (Heize)\n",
      "Crush\n",
      "전상근\n",
      "신용재 (2F)\n",
      "방탄소년단\n",
      "정은지\n",
      "TWICE (트와이스)\n",
      "마마무 (Mamamoo)\n",
      "유아 (오마이걸)\n",
      "Sam Smith\n",
      "싹쓰리 (유두래곤, 린다G, 비룡)\n",
      "청하\n"
     ]
    }
   ],
   "source": [
    "for doc in col.find({}):\n",
    "    #print(doc)\n",
    "    print(doc['가수'])"
   ]
  },
  {
   "cell_type": "code",
   "execution_count": 20,
   "metadata": {},
   "outputs": [
    {
     "name": "stdout",
     "output_type": "stream",
     "text": [
      "{'가수': '환불원정대', '발매일': '2020.10.10', '장르': '댄스'}\n",
      "{'가수': '방탄소년단', '발매일': '2020.08.24', '장르': '댄스'}\n",
      "{'가수': 'BLACKPINK', '발매일': '2020.10.02', '장르': '댄스'}\n",
      "{'가수': '산들', '발매일': '2020.07.20', '장르': '발라드'}\n",
      "{'가수': 'Crush', '발매일': '2020.10.20', '장르': 'R&B/Soul'}\n",
      "{'가수': '박진영', '발매일': '2020.08.12', '장르': '댄스'}\n",
      "{'가수': '임창정', '발매일': '2020.10.19', '장르': '발라드'}\n",
      "{'가수': '스탠딩 에그', '발매일': '2012.09.04', '장르': '인디음악, 포크/블루스'}\n",
      "{'가수': 'Jawsh 685', '발매일': '2020.10.02', '장르': 'POP'}\n",
      "{'가수': '제시 (Jessi)', '발매일': '2020.07.30', '장르': '랩/힙합'}\n",
      "{'가수': '규현 (KYUHYUN)', '발매일': '2020.08.23', '장르': '발라드'}\n",
      "{'가수': '화사 (Hwa Sa)', '발매일': '2020.06.29', '장르': '댄스'}\n",
      "{'가수': 'BLACKPINK', '발매일': '2020.06.26', '장르': '랩/힙합'}\n",
      "{'가수': '아이유', '발매일': '2020.05.06', '장르': '록/메탈'}\n",
      "{'가수': '오마이걸 (OH MY GIRL)', '발매일': '2020.04.27', '장르': '댄스'}\n",
      "{'가수': '싹쓰리 (유두래곤, 린다G, 비룡)', '발매일': '2020.07.18', '장르': '댄스'}\n",
      "{'가수': '조정석', '발매일': '2020.03.27', '장르': '발라드, 국내드라마'}\n",
      "{'가수': '이하이', '발매일': '2020.07.23', '장르': 'R&B/Soul'}\n",
      "{'가수': '블루 (BLOO)', '발매일': '2017.12.06', '장르': '랩/힙합, 인디음악'}\n",
      "{'가수': '오반', '발매일': '2020.03.05', '장르': '랩/힙합, 인디음악'}\n",
      "{'가수': '마마무 (Mamamoo)', '발매일': '2020.10.20', '장르': '댄스'}\n",
      "{'가수': '노을', '발매일': '2019.11.07', '장르': '발라드'}\n",
      "{'가수': 'Tones And I', '발매일': '2019.08.09', '장르': 'POP'}\n",
      "{'가수': '아이유', '발매일': '2019.11.18', '장르': '록/메탈'}\n",
      "{'가수': 'AKMU (악동뮤지션)', '발매일': '2019.09.25', '장르': '발라드'}\n",
      "{'가수': 'Maroon 5', '발매일': '2019.09.20', '장르': 'POP'}\n",
      "{'가수': '창모 (CHANGMO)', '발매일': '2019.11.29', '장르': '랩/힙합'}\n",
      "{'가수': '방탄소년단', '발매일': '2019.04.12', '장르': '댄스'}\n",
      "{'가수': '전상근', '발매일': '2020.06.07', '장르': '발라드'}\n",
      "{'가수': '백지영', '발매일': '2020.07.14', '장르': '발라드'}\n",
      "{'가수': '장범준', '발매일': '2019.08.23', '장르': '록/메탈, 국내드라마'}\n",
      "{'가수': '오마이걸 (OH MY GIRL)', '발매일': '2020.04.27', '장르': '댄스'}\n",
      "{'가수': '폴킴', '발매일': '2018.03.20', '장르': '발라드, 국내드라마'}\n",
      "{'가수': '마크툽 (MAKTUB)', '발매일': '2019.06.09', '장르': 'R&B/Soul, 인디음악'}\n",
      "{'가수': '전미도', '발매일': '2020.05.22', '장르': '발라드, 국내드라마'}\n",
      "{'가수': '(여자)아이들', '발매일': '2020.08.03', '장르': '댄스'}\n",
      "{'가수': 'Anne-Marie', '발매일': '2018.08.03', '장르': 'POP'}\n",
      "{'가수': 'BLACKPINK', '발매일': '2020.08.28', '장르': '댄스'}\n",
      "{'가수': '신예영', '발매일': '2019.11.20', '장르': '발라드'}\n",
      "{'가수': '청하', '발매일': '2020.09.23', '장르': 'POP'}\n",
      "{'가수': 'Crush', '발매일': '2020.10.20', '장르': 'R&B/Soul'}\n",
      "{'가수': '순순희', '발매일': '2020.05.05', '장르': '발라드, 인디음악'}\n",
      "{'가수': '지코 (ZICO)', '발매일': '2020.07.01', '장르': '랩/힙합'}\n",
      "{'가수': 'ITZY (있지)', '발매일': '2020.08.17', '장르': '댄스'}\n",
      "{'가수': 'Dua Lipa', '발매일': '2019.11.01', '장르': 'POP'}\n",
      "{'가수': '아이유', '발매일': '2020.02.15', '장르': '발라드, 국내드라마'}\n",
      "{'가수': '로꼬', '발매일': '2020.10.14', '장르': '랩/힙합'}\n",
      "{'가수': '엠씨더맥스 (M.C the MAX)', '발매일': '2020.03.25', '장르': '발라드'}\n",
      "{'가수': '방탄소년단', '발매일': '2017.02.13', '장르': '랩/힙합'}\n",
      "{'가수': '먼데이 키즈 (Monday Kiz)', '발매일': '2020.10.21', '장르': '발라드'}\n",
      "{'가수': '폴킴', '발매일': '2019.08.12', '장르': '발라드, 국내드라마'}\n",
      "{'가수': '선미', '발매일': '2020.06.29', '장르': '댄스'}\n",
      "{'가수': '지코 (ZICO)', '발매일': '2020.01.13', '장르': '랩/힙합'}\n",
      "{'가수': '방탄소년단', '발매일': '2020.02.21', '장르': '랩/힙합'}\n",
      "{'가수': 'BLACKPINK', '발매일': '2020.10.02', '장르': '랩/힙합'}\n",
      "{'가수': '바이브', '발매일': '2018.09.18', '장르': '발라드'}\n",
      "{'가수': 'Etham', '발매일': '2018.10.26', '장르': 'POP'}\n",
      "{'가수': '가호 (Gaho)', '발매일': '2020.02.01', '장르': '록/메탈, 국내드라마'}\n",
      "{'가수': 'Conan Gray', '발매일': '2019.10.25', '장르': 'POP'}\n",
      "{'가수': '아이유', '발매일': '2019.11.01', '장르': '록/메탈'}\n",
      "{'가수': '임영웅', '발매일': '2020.04.03', '장르': '성인가요'}\n",
      "{'가수': '아이유', '발매일': '2020.06.19', '장르': '댄스'}\n",
      "{'가수': '조이 (JOY)', '발매일': '2020.03.20', '장르': '발라드, 국내드라마'}\n",
      "{'가수': 'Red Velvet (레드벨벳)', '발매일': '2019.12.23', '장르': '댄스'}\n",
      "{'가수': '오반', '발매일': '2020.09.09', '장르': '랩/힙합, 인디음악'}\n",
      "{'가수': 'Lauv', '발매일': '2018.10.08', '장르': 'POP'}\n",
      "{'가수': '카더가든', '발매일': '2020.09.03', '장르': '발라드'}\n",
      "{'가수': '싹쓰리 (유두래곤, 린다G, 비룡)', '발매일': '2020.07.25', '장르': '댄스'}\n",
      "{'가수': '폴킴', '발매일': '2018.10.29', '장르': '발라드'}\n",
      "{'가수': 'BLACKPINK', '발매일': '2020.10.02', '장르': '댄스'}\n",
      "{'가수': '황인욱', '발매일': '2020.05.24', '장르': '발라드'}\n",
      "{'가수': '김필', '발매일': '2020.02.15', '장르': '발라드, 국내드라마'}\n",
      "{'가수': 'Crush', '발매일': '2020.10.20', '장르': 'R&B/Soul'}\n",
      "{'가수': '이수현', '발매일': '2020.10.16', '장르': '댄스'}\n",
      "{'가수': '마크툽 (MAKTUB)', '발매일': '2020.09.05', '장르': 'R&B/Soul, 인디음악'}\n",
      "{'가수': 'Billie Eilish', '발매일': '2019.03.29', '장르': 'POP'}\n",
      "{'가수': '규현 (KYUHYUN)', '발매일': '2020.04.03', '장르': '발라드, 국내드라마'}\n",
      "{'가수': '볼빨간사춘기', '발매일': '2020.05.07', '장르': '인디음악, 포크/블루스'}\n",
      "{'가수': '김준수', '발매일': '2020.10.18', '장르': '발라드'}\n",
      "{'가수': 'Ruel', '발매일': '2019.05.01', '장르': 'POP'}\n",
      "{'가수': 'HYNN (박혜원)', '발매일': '2019.03.31', '장르': '발라드'}\n",
      "{'가수': '비룡', '발매일': '2020.08.01', '장르': '댄스'}\n",
      "{'가수': '송하예', '발매일': '2020.10.17', '장르': '발라드'}\n",
      "{'가수': 'Crush', '발매일': '2020.10.20', '장르': '랩/힙합'}\n",
      "{'가수': 'Ariana Grande', '발매일': '2020.05.08', '장르': 'POP'}\n",
      "{'가수': '진민호', '발매일': '2019.11.30', '장르': '발라드'}\n",
      "{'가수': '백현 (BAEKHYUN)', '발매일': '2020.01.07', '장르': '발라드, 국내드라마'}\n",
      "{'가수': '임창정', '발매일': '2018.09.19', '장르': '발라드'}\n",
      "{'가수': '헤이즈 (Heize)', '발매일': '2020.09.27', '장르': 'R&B/Soul, 국내드라마'}\n",
      "{'가수': 'Crush', '발매일': '2020.10.20', '장르': '재즈, 애시드/퓨전/팝'}\n",
      "{'가수': '전상근', '발매일': '2019.09.08', '장르': '발라드'}\n",
      "{'가수': '신용재 (2F)', '발매일': '2020.07.01', '장르': '발라드'}\n",
      "{'가수': '방탄소년단', '발매일': '2020.02.21', '장르': '랩/힙합'}\n",
      "{'가수': '정은지', '발매일': '2020.09.27', '장르': '발라드'}\n",
      "{'가수': 'TWICE (트와이스)', '발매일': '2020.06.01', '장르': '댄스'}\n",
      "{'가수': '마마무 (Mamamoo)', '발매일': '2019.11.14', '장르': '댄스'}\n",
      "{'가수': '유아 (오마이걸)', '발매일': '2020.09.07', '장르': '댄스'}\n",
      "{'가수': 'Sam Smith', '발매일': '2020.02.14', '장르': 'POP'}\n",
      "{'가수': '싹쓰리 (유두래곤, 린다G, 비룡)', '발매일': '2020.07.11', '장르': '댄스'}\n",
      "{'가수': '청하', '발매일': '2020.07.06', '장르': '댄스'}\n"
     ]
    }
   ],
   "source": [
    "#가수,장르, 발매일\n",
    "\n",
    "for song in col.find({},{'_id':0,'가수':1,'장르':1,'발매일':1}):\n",
    "    print (song)"
   ]
  },
  {
   "cell_type": "code",
   "execution_count": 26,
   "metadata": {},
   "outputs": [
    {
     "name": "stdout",
     "output_type": "stream",
     "text": [
      "{'_id': ObjectId('5f9a4f5be3a70dd05eeafb88'), '곡명': 'Dynamite', '가수': '방탄소년단'}\n",
      "{'_id': ObjectId('5f9a4f5be3a70dd05eeafba2'), '곡명': '작은 것들을 위한 시 (Boy With Luv) (Feat. Halsey)', '가수': '방탄소년단'}\n",
      "{'_id': ObjectId('5f9a4f5be3a70dd05eeafbb7'), '곡명': '봄날', '가수': '방탄소년단'}\n",
      "{'_id': ObjectId('5f9a4f5be3a70dd05eeafbbc'), '곡명': 'ON', '가수': '방탄소년단'}\n",
      "{'_id': ObjectId('5f9a4f5be3a70dd05eeafbe3'), '곡명': '00:00 (Zero O’Clock)', '가수': '방탄소년단'}\n"
     ]
    }
   ],
   "source": [
    "for song in col.find({'가수':'방탄소년단'},{'가수':1,'곡명':1}):\n",
    "    print (song)"
   ]
  },
  {
   "cell_type": "code",
   "execution_count": 35,
   "metadata": {},
   "outputs": [],
   "source": [
    "#criteria (검색조건), projection(필드)을 인자로 받아서 출력하는 함수\n",
    "def print_song(criteria, projection):\n",
    "    for idx,song in enumerate(col.find(criteria,projection),1):\n",
    "        print(idx,song)"
   ]
  },
  {
   "cell_type": "code",
   "execution_count": 33,
   "metadata": {},
   "outputs": [
    {
     "name": "stdout",
     "output_type": "stream",
     "text": [
      "{'가수': '방탄소년단'} {'가수': 1, '곡명': 1}\n"
     ]
    }
   ],
   "source": [
    "print({'가수':'방탄소년단'},{'가수':1,'곡명':1})"
   ]
  },
  {
   "cell_type": "code",
   "execution_count": 39,
   "metadata": {},
   "outputs": [
    {
     "name": "stdout",
     "output_type": "stream",
     "text": [
      "1 {'_id': ObjectId('5f9a4f5be3a70dd05eeafb88'), '곡명': 'Dynamite', '가수': '방탄소년단'}\n",
      "2 {'_id': ObjectId('5f9a4f5be3a70dd05eeafba2'), '곡명': '작은 것들을 위한 시 (Boy With Luv) (Feat. Halsey)', '가수': '방탄소년단'}\n",
      "3 {'_id': ObjectId('5f9a4f5be3a70dd05eeafbb7'), '곡명': '봄날', '가수': '방탄소년단'}\n",
      "4 {'_id': ObjectId('5f9a4f5be3a70dd05eeafbbc'), '곡명': 'ON', '가수': '방탄소년단'}\n",
      "5 {'_id': ObjectId('5f9a4f5be3a70dd05eeafbe3'), '곡명': '00:00 (Zero O’Clock)', '가수': '방탄소년단'}\n"
     ]
    }
   ],
   "source": [
    "print_song({'가수':'방탄소년단'},{'가수':1,'곡명':1})"
   ]
  },
  {
   "cell_type": "code",
   "execution_count": 42,
   "metadata": {},
   "outputs": [
    {
     "name": "stdout",
     "output_type": "stream",
     "text": [
      "1 {'_id': ObjectId('5f9a4f5be3a70dd05eeafb88'), '곡명': 'Dynamite', '가수': '방탄소년단', '발매일': '2020.08.24'}\n",
      "2 {'_id': ObjectId('5f9a4f5be3a70dd05eeafba2'), '곡명': '작은 것들을 위한 시 (Boy With Luv) (Feat. Halsey)', '가수': '방탄소년단', '발매일': '2019.04.12'}\n",
      "3 {'_id': ObjectId('5f9a4f5be3a70dd05eeafbb7'), '곡명': '봄날', '가수': '방탄소년단', '발매일': '2017.02.13'}\n",
      "4 {'_id': ObjectId('5f9a4f5be3a70dd05eeafbbc'), '곡명': 'ON', '가수': '방탄소년단', '발매일': '2020.02.21'}\n",
      "5 {'_id': ObjectId('5f9a4f5be3a70dd05eeafbe3'), '곡명': '00:00 (Zero O’Clock)', '가수': '방탄소년단', '발매일': '2020.02.21'}\n",
      "1 {'_id': ObjectId('5f9a4f5be3a70dd05eeafba7'), '곡명': '모든 날, 모든 순간 (Every day, Every Moment)', '가수': '폴킴', '발매일': '2018.03.20'}\n",
      "2 {'_id': ObjectId('5f9a4f5be3a70dd05eeafbb9'), '곡명': '안녕', '가수': '폴킴', '발매일': '2019.08.12'}\n",
      "3 {'_id': ObjectId('5f9a4f5be3a70dd05eeafbcb'), '곡명': '너를 만나', '가수': '폴킴', '발매일': '2018.10.29'}\n"
     ]
    }
   ],
   "source": [
    "print_song({'가수':'방탄소년단'},{'가수':1,'곡명':1,'발매일':1})\n",
    "print_song({'가수':'폴킴'},{'가수':1,'곡명':1,'발매일':1})"
   ]
  },
  {
   "cell_type": "code",
   "execution_count": 70,
   "metadata": {},
   "outputs": [
    {
     "ename": "SyntaxError",
     "evalue": "invalid syntax (<ipython-input-70-6a26f0cb180e>, line 1)",
     "output_type": "error",
     "traceback": [
      "\u001b[1;36m  File \u001b[1;32m\"<ipython-input-70-6a26f0cb180e>\"\u001b[1;36m, line \u001b[1;32m1\u001b[0m\n\u001b[1;33m    print_song({'가수':{'$in':'방탄소년단','폴킴'}},{'가수':1,'곡명':1,'발매일':1})\u001b[0m\n\u001b[1;37m                                        ^\u001b[0m\n\u001b[1;31mSyntaxError\u001b[0m\u001b[1;31m:\u001b[0m invalid syntax\n"
     ]
    }
   ],
   "source": [
    "print_song({'가수':{'$in':'방탄소년단','폴킴'}},{'가수':1,'곡명':1,'발매일':1})"
   ]
  },
  {
   "cell_type": "code",
   "execution_count": 69,
   "metadata": {},
   "outputs": [
    {
     "ename": "NameError",
     "evalue": "name 'projection' is not defined",
     "output_type": "error",
     "traceback": [
      "\u001b[1;31m---------------------------------------------------------------------------\u001b[0m",
      "\u001b[1;31mNameError\u001b[0m                                 Traceback (most recent call last)",
      "\u001b[1;32m<ipython-input-69-1d60eb436dda>\u001b[0m in \u001b[0;36m<module>\u001b[1;34m\u001b[0m\n\u001b[0;32m      1\u001b[0m \u001b[1;31m#앨범이름 중에 ost가 포함된 노래는\u001b[0m\u001b[1;33m\u001b[0m\u001b[1;33m\u001b[0m\u001b[1;33m\u001b[0m\u001b[0m\n\u001b[0;32m      2\u001b[0m \u001b[0mcriteria\u001b[0m\u001b[1;33m=\u001b[0m\u001b[1;33m{\u001b[0m\u001b[1;34m'앨범'\u001b[0m\u001b[1;33m:\u001b[0m\u001b[1;33m{\u001b[0m\u001b[1;34m'$regex'\u001b[0m\u001b[1;33m:\u001b[0m\u001b[1;34m'OST'\u001b[0m\u001b[1;33m}\u001b[0m\u001b[1;33m}\u001b[0m\u001b[1;33m\u001b[0m\u001b[1;33m\u001b[0m\u001b[0m\n\u001b[1;32m----> 3\u001b[1;33m \u001b[0mprint_song\u001b[0m\u001b[1;33m(\u001b[0m\u001b[0mcriteria\u001b[0m\u001b[1;33m,\u001b[0m\u001b[0mprojection\u001b[0m\u001b[1;33m)\u001b[0m\u001b[1;33m\u001b[0m\u001b[1;33m\u001b[0m\u001b[0m\n\u001b[0m",
      "\u001b[1;31mNameError\u001b[0m: name 'projection' is not defined"
     ]
    }
   ],
   "source": [
    "#앨범이름 중에 ost가 포함된 노래는 \n",
    "criteria={'앨범':{'$regex':'OST'}}\n",
    "\n",
    "print_song(criteria,projection)"
   ]
  },
  {
   "cell_type": "code",
   "execution_count": 62,
   "metadata": {},
   "outputs": [
    {
     "name": "stdout",
     "output_type": "stream",
     "text": [
      "{'_id': 'Crush', 'song_cnt': 5}\n",
      "{'_id': '아이유', 'song_cnt': 5}\n",
      "{'_id': 'BLACKPINK', 'song_cnt': 5}\n",
      "{'_id': '방탄소년단', 'song_cnt': 5}\n",
      "{'_id': '폴킴', 'song_cnt': 3}\n",
      "{'_id': '싹쓰리 (유두래곤, 린다G, 비룡)', 'song_cnt': 3}\n",
      "{'_id': '청하', 'song_cnt': 2}\n",
      "{'_id': '전상근', 'song_cnt': 2}\n",
      "{'_id': '규현 (KYUHYUN)', 'song_cnt': 2}\n",
      "{'_id': '임창정', 'song_cnt': 2}\n",
      "{'_id': '마마무 (Mamamoo)', 'song_cnt': 2}\n",
      "{'_id': '마크툽 (MAKTUB)', 'song_cnt': 2}\n",
      "{'_id': '지코 (ZICO)', 'song_cnt': 2}\n",
      "{'_id': '오반', 'song_cnt': 2}\n",
      "{'_id': '오마이걸 (OH MY GIRL)', 'song_cnt': 2}\n",
      "{'_id': '화사 (Hwa Sa)', 'song_cnt': 1}\n",
      "{'_id': 'Ariana Grande', 'song_cnt': 1}\n",
      "{'_id': '백지영', 'song_cnt': 1}\n",
      "{'_id': 'Conan Gray', 'song_cnt': 1}\n",
      "{'_id': 'Maroon 5', 'song_cnt': 1}\n",
      "{'_id': '산들', 'song_cnt': 1}\n",
      "{'_id': '신용재 (2F)', 'song_cnt': 1}\n",
      "{'_id': '제시 (Jessi)', 'song_cnt': 1}\n",
      "{'_id': '임영웅', 'song_cnt': 1}\n",
      "{'_id': '정은지', 'song_cnt': 1}\n",
      "{'_id': 'Red Velvet (레드벨벳)', 'song_cnt': 1}\n",
      "{'_id': '(여자)아이들', 'song_cnt': 1}\n",
      "{'_id': 'Billie Eilish', 'song_cnt': 1}\n",
      "{'_id': '전미도', 'song_cnt': 1}\n",
      "{'_id': '볼빨간사춘기', 'song_cnt': 1}\n",
      "{'_id': '박진영', 'song_cnt': 1}\n",
      "{'_id': '순순희', 'song_cnt': 1}\n",
      "{'_id': 'Tones And I', 'song_cnt': 1}\n",
      "{'_id': '블루 (BLOO)', 'song_cnt': 1}\n",
      "{'_id': '김필', 'song_cnt': 1}\n",
      "{'_id': '환불원정대', 'song_cnt': 1}\n",
      "{'_id': '먼데이 키즈 (Monday Kiz)', 'song_cnt': 1}\n",
      "{'_id': 'Etham', 'song_cnt': 1}\n",
      "{'_id': '백현 (BAEKHYUN)', 'song_cnt': 1}\n",
      "{'_id': '진민호', 'song_cnt': 1}\n",
      "{'_id': '가호 (Gaho)', 'song_cnt': 1}\n",
      "{'_id': '송하예', 'song_cnt': 1}\n",
      "{'_id': '헤이즈 (Heize)', 'song_cnt': 1}\n",
      "{'_id': 'Lauv', 'song_cnt': 1}\n",
      "{'_id': '이수현', 'song_cnt': 1}\n",
      "{'_id': '선미', 'song_cnt': 1}\n",
      "{'_id': '비룡', 'song_cnt': 1}\n",
      "{'_id': '유아 (오마이걸)', 'song_cnt': 1}\n",
      "{'_id': '조이 (JOY)', 'song_cnt': 1}\n",
      "{'_id': '노을', 'song_cnt': 1}\n",
      "{'_id': '신예영', 'song_cnt': 1}\n",
      "{'_id': '김준수', 'song_cnt': 1}\n",
      "{'_id': '창모 (CHANGMO)', 'song_cnt': 1}\n",
      "{'_id': 'Jawsh 685', 'song_cnt': 1}\n",
      "{'_id': 'Ruel', 'song_cnt': 1}\n",
      "{'_id': '황인욱', 'song_cnt': 1}\n",
      "{'_id': '이하이', 'song_cnt': 1}\n",
      "{'_id': 'Anne-Marie', 'song_cnt': 1}\n",
      "{'_id': '장범준', 'song_cnt': 1}\n",
      "{'_id': '로꼬', 'song_cnt': 1}\n",
      "{'_id': 'HYNN (박혜원)', 'song_cnt': 1}\n",
      "{'_id': 'TWICE (트와이스)', 'song_cnt': 1}\n",
      "{'_id': '스탠딩 에그', 'song_cnt': 1}\n",
      "{'_id': 'AKMU (악동뮤지션)', 'song_cnt': 1}\n",
      "{'_id': '바이브', 'song_cnt': 1}\n",
      "{'_id': 'Sam Smith', 'song_cnt': 1}\n",
      "{'_id': 'ITZY (있지)', 'song_cnt': 1}\n",
      "{'_id': 'Dua Lipa', 'song_cnt': 1}\n",
      "{'_id': '조정석', 'song_cnt': 1}\n",
      "{'_id': '엠씨더맥스 (M.C the MAX)', 'song_cnt': 1}\n",
      "{'_id': '카더가든', 'song_cnt': 1}\n"
     ]
    }
   ],
   "source": [
    "for song in col.aggregate([\n",
    "    {\n",
    "        '$group':{\n",
    "            '_id':'$가수',\n",
    "            'song_cnt':{'$sum':1}\n",
    "        }\n",
    "\n",
    "    },\n",
    "    {\n",
    "                '$sort':{'song_cnt':-1}\n",
    "    }\n",
    "]):\n",
    "\n",
    "    print(song)"
   ]
  },
  {
   "cell_type": "code",
   "execution_count": 63,
   "metadata": {},
   "outputs": [
    {
     "name": "stdout",
     "output_type": "stream",
     "text": [
      "{'_id': '댄스', 'song_cnt': 25}\n",
      "{'_id': '발라드', 'song_cnt': 22}\n",
      "{'_id': 'POP', 'song_cnt': 13}\n",
      "{'_id': '랩/힙합', 'song_cnt': 11}\n",
      "{'_id': '발라드, 국내드라마', 'song_cnt': 9}\n",
      "{'_id': 'R&B/Soul', 'song_cnt': 4}\n",
      "{'_id': '랩/힙합, 인디음악', 'song_cnt': 3}\n",
      "{'_id': '록/메탈', 'song_cnt': 3}\n",
      "{'_id': '록/메탈, 국내드라마', 'song_cnt': 2}\n",
      "{'_id': 'R&B/Soul, 인디음악', 'song_cnt': 2}\n",
      "{'_id': '인디음악, 포크/블루스', 'song_cnt': 2}\n",
      "{'_id': '재즈, 애시드/퓨전/팝', 'song_cnt': 1}\n",
      "{'_id': '성인가요', 'song_cnt': 1}\n",
      "{'_id': 'R&B/Soul, 국내드라마', 'song_cnt': 1}\n",
      "{'_id': '발라드, 인디음악', 'song_cnt': 1}\n"
     ]
    }
   ],
   "source": [
    "for song in col.aggregate([\n",
    "    {\n",
    "        '$group':{\n",
    "            '_id':'$장르',\n",
    "            'song_cnt':{'$sum':1}\n",
    "        }\n",
    "\n",
    "    },\n",
    "    {\n",
    "                '$sort':{'song_cnt':-1}\n",
    "    }\n",
    "]):\n",
    "\n",
    "    print(song)"
   ]
  },
  {
   "cell_type": "code",
   "execution_count": 68,
   "metadata": {},
   "outputs": [
    {
     "name": "stdout",
     "output_type": "stream",
     "text": [
      "{'노래개수': 25, '장르': '댄스'}\n",
      "{'노래개수': 22, '장르': '발라드'}\n",
      "{'노래개수': 13, '장르': 'POP'}\n",
      "{'노래개수': 11, '장르': '랩/힙합'}\n",
      "{'노래개수': 9, '장르': '발라드, 국내드라마'}\n",
      "{'노래개수': 4, '장르': 'R&B/Soul'}\n",
      "{'노래개수': 3, '장르': '록/메탈'}\n",
      "{'노래개수': 3, '장르': '랩/힙합, 인디음악'}\n",
      "{'노래개수': 2, '장르': 'R&B/Soul, 인디음악'}\n",
      "{'노래개수': 2, '장르': '인디음악, 포크/블루스'}\n",
      "{'노래개수': 2, '장르': '록/메탈, 국내드라마'}\n",
      "{'노래개수': 1, '장르': '발라드, 인디음악'}\n",
      "{'노래개수': 1, '장르': 'R&B/Soul, 국내드라마'}\n",
      "{'노래개수': 1, '장르': '재즈, 애시드/퓨전/팝'}\n",
      "{'노래개수': 1, '장르': '성인가요'}\n"
     ]
    }
   ],
   "source": [
    "group={\n",
    "    '$group':{\n",
    "        '_id':'$장르',\n",
    "        '노래개수':{'$sum':1}\n",
    "    }\n",
    "}\n",
    "\n",
    "\n",
    "sort={\n",
    "    '$sort':{'노래개수':-1}\n",
    "}\n",
    "\n",
    "\n",
    "project={\n",
    "    '$project':{'장르':'$_id',\n",
    "    '_id':0,\n",
    "    '노래개수':1}\n",
    "}\n",
    "\n",
    "\n",
    "for song in col.aggregate([\n",
    "    \n",
    "    group,sort,project\n",
    "    \n",
    "    \n",
    "]):\n",
    "    print(song)"
   ]
  }
 ],
 "metadata": {
  "kernelspec": {
   "display_name": "Python 3",
   "language": "python",
   "name": "python3"
  },
  "language_info": {
   "codemirror_mode": {
    "name": "ipython",
    "version": 3
   },
   "file_extension": ".py",
   "mimetype": "text/x-python",
   "name": "python",
   "nbconvert_exporter": "python",
   "pygments_lexer": "ipython3",
   "version": "3.8.3"
  }
 },
 "nbformat": 4,
 "nbformat_minor": 4
}
