{
 "cells": [
  {
   "cell_type": "code",
   "execution_count": 1,
   "metadata": {},
   "outputs": [
    {
     "name": "stdout",
     "output_type": "stream",
     "text": [
      "----------스크래핑 시작\n"
     ]
    },
    {
     "ename": "NameError",
     "evalue": "name 'member_id_list' is not defined",
     "output_type": "error",
     "traceback": [
      "\u001b[1;31m---------------------------------------------------------------------------\u001b[0m",
      "\u001b[1;31mNameError\u001b[0m                                 Traceback (most recent call last)",
      "\u001b[1;32m<ipython-input-1-321dbcb5bb81>\u001b[0m in \u001b[0;36m<module>\u001b[1;34m\u001b[0m\n\u001b[0;32m      7\u001b[0m \u001b[1;33m\u001b[0m\u001b[0m\n\u001b[0;32m      8\u001b[0m \u001b[0mmember_detail_list\u001b[0m\u001b[1;33m=\u001b[0m\u001b[1;33m[\u001b[0m\u001b[1;33m]\u001b[0m\u001b[1;33m\u001b[0m\u001b[1;33m\u001b[0m\u001b[0m\n\u001b[1;32m----> 9\u001b[1;33m \u001b[1;32mfor\u001b[0m \u001b[0midx\u001b[0m\u001b[1;33m,\u001b[0m\u001b[0mmember_id\u001b[0m \u001b[1;32min\u001b[0m \u001b[0menumerate\u001b[0m\u001b[1;33m(\u001b[0m\u001b[0mmember_id_list\u001b[0m\u001b[1;33m,\u001b[0m\u001b[1;36m1\u001b[0m\u001b[1;33m)\u001b[0m\u001b[1;33m:\u001b[0m\u001b[1;33m\u001b[0m\u001b[1;33m\u001b[0m\u001b[0m\n\u001b[0m\u001b[0;32m     10\u001b[0m     \u001b[0mdetail_url\u001b[0m \u001b[1;33m=\u001b[0m\u001b[1;34mf'https://www.assembly.go.kr/assm/memPop/memPopup.do?dept_cd={member_id}'\u001b[0m\u001b[1;33m\u001b[0m\u001b[1;33m\u001b[0m\u001b[0m\n\u001b[0;32m     11\u001b[0m \u001b[1;33m\u001b[0m\u001b[0m\n",
      "\u001b[1;31mNameError\u001b[0m: name 'member_id_list' is not defined"
     ]
    }
   ],
   "source": [
    "import requests\n",
    "from bs4 import BeautifulSoup\n",
    "import re\n",
    "from urllib.parse import urljoin\n",
    "\n",
    "print('----------스크래핑 시작')\n",
    "\n",
    "member_detail_list=[]\n",
    "for idx,member_id in enumerate(member_id_list,1):\n",
    "    detail_url =f'https://www.assembly.go.kr/assm/memPop/memPopup.do?dept_cd={member_id}'\n",
    " \n",
    "    res = requests.get(detail_url)\n",
    "    print(idx,detail_url, res.status_code)\n",
    "    html=res.text\n",
    "    soup=BeautifulSoup(html,'html.parser')\n",
    "    \n",
    "    \n",
    "    \n",
    "    \n",
    "    #ㄱ국회의원 한명어ㅣ 정보를 저장할 딕트를 선언\n",
    "    member_dict={}\n",
    "    \n",
    "    #print(soup.select('div.info_mna dl.pro_detail dd'))\n",
    "    dt_list=[]\n",
    "    for dt_tag in soup.select('div.info_mna dl.pro_detail dt'):\n",
    "        dt_list.append(dt_tag.text)\n",
    " #   print(dt_list)\n",
    "    \n",
    "    dd_list = []\n",
    "    for dd_tag in soup.select('div.info_mna dl.pro_detail dd'):\n",
    "        \n",
    "        dd_text=dd_tag.text.strip()\n",
    "        regex=re.compile(r'[\\n\\r\\t]')\n",
    "        result = regex.sub('',dd_text).replace(\" \",\"\")\n",
    "        dd_list.append(result)\n",
    "   # print(dd_list)\n",
    "    member_dict = dict(zip(dt_list,dd_list))\n",
    "\n",
    "   # print(member_dict)\n",
    "    \n",
    "    \n",
    "    for div_tag in soup.select('div.info_mna div.profile '):\n",
    "      #  print(div_tag)\n",
    "        member_dict['이름']= div_tag.find('h4').text\n",
    "        img_src = div_tag.find('img').attrs['src']\n",
    "        print(img_src)\n",
    "        member_dict['이미지'] = urljoin(detail_url, img_src)\n",
    "        member_dict['생년월일']=div_tag.select_one('li:nth-of-type(4)').text\n",
    "        \n",
    "    \n",
    "        \n",
    "        \n",
    "        \n",
    "        \n",
    "        \n",
    "        \n",
    "  #  print(member_dict)\n",
    "        \n",
    "        \n",
    "        \n",
    "    member_detail_list.append(member_dict)\n",
    "    print(member_detail_list)\n",
    "        \n",
    "        \n",
    "        \n",
    "    \n",
    "print('-----------스크래핑 끝-------------')"
   ]
  },
  {
   "cell_type": "code",
   "execution_count": null,
   "metadata": {},
   "outputs": [],
   "source": []
  }
 ],
 "metadata": {
  "kernelspec": {
   "display_name": "Python 3",
   "language": "python",
   "name": "python3"
  },
  "language_info": {
   "codemirror_mode": {
    "name": "ipython",
    "version": 3
   },
   "file_extension": ".py",
   "mimetype": "text/x-python",
   "name": "python",
   "nbconvert_exporter": "python",
   "pygments_lexer": "ipython3",
   "version": "3.8.3"
  }
 },
 "nbformat": 4,
 "nbformat_minor": 4
}
